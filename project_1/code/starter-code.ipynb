{
 "cells": [
  {
   "cell_type": "markdown",
   "metadata": {},
   "source": [
    "<img src=\"http://imgur.com/1ZcRyrc.png\" style=\"float: left; margin: 20px; height: 55px\">\n",
    "\n",
    "# Project 1: Data Analysis of Singapore Rainfall"
   ]
  },
  {
   "cell_type": "markdown",
   "metadata": {},
   "source": [
    "--- \n",
    "# Part 1\n",
    "\n",
    "Part 1 requires knowledge of basic Python.\n",
    "\n",
    "---"
   ]
  },
  {
   "cell_type": "markdown",
   "metadata": {},
   "source": [
    "### Contents:\n",
    "- [Background](#Background)\n",
    "- [Data Import & Cleaning](#Data-Import-and-Cleaning)\n",
    "- [Exploratory Data Analysis](#Exploratory-Data-Analysis)\n",
    "- [Data Visualization](#Visualize-the-Data)\n",
    "- [Conclusions and Recommendations](#Conclusions-and-Recommendations)"
   ]
  },
  {
   "cell_type": "markdown",
   "metadata": {},
   "source": [
    "## Background"
   ]
  },
  {
   "cell_type": "markdown",
   "metadata": {},
   "source": [
    "According to the [Meteorological Services Singapore](http://www.weather.gov.sg/climate-climate-of-singapore/#:~:text=Singapore%20is%20situated%20near%20the,month%2Dto%2Dmonth%20variation.), Singapore has typical tropical climate with adundant rainfall, high and uniform temperatures and high humidity all year round, since its situated near the equator. There are many factors that help us understand the climate of a country and in this project we are going to look into a few, especially rainfall.\n",
    "\n",
    "Singapore’s climate is characterised by two main monsoon seasons separated by inter-monsoonal periods.  The **Northeast Monsoon** occurs from December to early March, and the **Southwest Monsoon** from June to September.\n",
    "\n",
    "The major weather systems affecting Singapore that can lead to heavy rainfall are:\n",
    "\n",
    "-Monsoon surges, or strong wind episodes in the Northeast Monsoon flow bringing about major rainfall events;\n",
    "\n",
    "-Sumatra squalls, an organised line of thunderstorms travelling eastward across Singapore, having developed over the island of Sumatra or Straits of Malacca west of us;\n",
    "\n",
    "-Afternoon and evening thunderstorms caused by strong surface heating and by the sea breeze circulation that develops in the afternoon.\n",
    "\n",
    "Singapore’s climate station has been located at several different sites in the past 140 years. The station had been decommissioned at various points in the past due to changes to local land use in the site’s vicinity, and had to be relocated. Since 1984, the climate station has been located at **Changi**.\n",
    "\n",
    "There are other metrics of climate such as temperature, humidity, sun shine duration, wind speed, cloud cover etc. All the dataset used in the project comes from [data.gov.sg](data.gov.sg), as recorded at the Changi climate station \n"
   ]
  },
  {
   "cell_type": "markdown",
   "metadata": {},
   "source": [
    "### Choose your Data\n",
    "\n",
    "There are 2 datasets included in the [`data`](../data/) folder for this project. These correponds to rainfall information. \n",
    "\n",
    "* [`rainfall-monthly-number-of-rain-days.csv`](../data/rainfall-monthly-number-of-rain-days.csv): Monthly number of rain days from 1982 to 2022. A day is considered to have “rained” if the total rainfall for that day is 0.2mm or more.\n",
    "* [`rainfall-monthly-total.csv`](../data/rainfall-monthly-total.csv): Monthly total rain recorded in mm(millimeters) from 1982 to 2022\n",
    "\n",
    "Other relevant weather datasets from [data.gov.sg](data.gov.sg) that you can download and use are as follows:\n",
    "\n",
    "* [Relative Humidity](https://data.gov.sg/dataset/relative-humidity-monthly-mean)\n",
    "* [Monthly Maximum Daily Rainfall](https://data.gov.sg/dataset/rainfall-monthly-maximum-daily-total)\n",
    "* [Hourly wet buld temperature](https://data.gov.sg/dataset/wet-bulb-temperature-hourly)\n",
    "* [Monthly mean sunshine hours](https://data.gov.sg/dataset/sunshine-duration-monthly-mean-daily-duration)\n",
    "* [Surface Air Temperature](https://data.gov.sg/dataset/surface-air-temperature-mean-daily-minimum)\n",
    "\n",
    "You can also use other datasets for your analysis, make sure to cite the source when you are using them"
   ]
  },
  {
   "cell_type": "markdown",
   "metadata": {},
   "source": [
    "### Data Used:\n",
    "* [`rainfall-monthly-total.csv`](../data/rainfall-monthly-total.csv): Monthly total rain recorded in mm(millimeters) from 1982 to 2022\n",
    "* [`havaianas_visitors.csv`](../data/havaianas_visitors.csv): Daily total visitors in Havaianas ION Orchard shop recorded in numbers from 1st January 2015 to 31st December 2015\n",
    "* [`retail_sales.csv`](../data/retail_sales.csv): Retail numbers such as sales revenue, units sold, discounts given, basket size in Havaianas ION Orchard shop recorded from 1st January 2018 to 31st December 2018"
   ]
  },
  {
   "cell_type": "markdown",
   "metadata": {},
   "source": [
    "## Problem Statement"
   ]
  },
  {
   "cell_type": "markdown",
   "metadata": {},
   "source": [
    "You are working for a Havaianas footwear company. The company is looking at ways to optimise their limited resources (i.e. employees, time) to increase their sales revenue for the year ahead. With multiple goals to achieve (i.e. increase footfall, increase sales per transaction, increase no. of pairs of footwear sold), what is the key goal that helps Havaianas increase the sales revenue exponentially with least effort? Their retail shop is impacted by rainy weather conditions too. How can they plan their campaigns ahead to circumvent low sales beforehand?\n",
    "\n",
    "This project aims to analyse Havaianas retail sales dashboard to identify the key factor that increases sales revenue greatly and the monthly weather patterns over the year to allow the various department team to better plan and allocate resources during the rainy seasons."
   ]
  },
  {
   "cell_type": "markdown",
   "metadata": {},
   "source": [
    "Rainfall affects daily activities of Singapore population, hence it is worth analysing rainfall data to identify trends."
   ]
  },
  {
   "cell_type": "markdown",
   "metadata": {},
   "source": [
    "### Outside Research"
   ]
  },
  {
   "cell_type": "markdown",
   "metadata": {},
   "source": [
    "Based on your problem statement and your chosen datasets, spend some time doing outside research on how climate change is affecting different industries or additional information that might be relevant. Summarize your findings below. If you bring in any outside tables or charts, make sure you are explicit about having borrowed them. If you quote any text, make sure that it renders as being quoted. **Make sure that you cite your sources.**"
   ]
  },
  {
   "cell_type": "markdown",
   "metadata": {},
   "source": [
    "**Article: 8 Important Metrics for Retail Industry KPIs.**\n",
    "\n",
    "This article explores the key metrics retail industries use to gauge performance. It provides insights that increasing sales volume and foot traffic instores are the top 8 metrics for performance.\n",
    "https://www.tableau.com/learn/articles/retail-industry-metrics-kpis\n",
    "\n",
    "\n",
    "**Article: How Seasonal Forecasting Can Affect Your Retail Sales**\n",
    "\n",
    "This article explores how the weather affects the retail industry and how the use of seasonal forecasting can minimise the risks that weather brings while also driving sales.\n",
    "https://www.ibm.com/blog/how-seasonal-forecasting-can-affect-your-retail-sales/"
   ]
  },
  {
   "cell_type": "markdown",
   "metadata": {},
   "source": []
  },
  {
   "cell_type": "markdown",
   "metadata": {},
   "source": [
    "### Coding Challenges\n",
    "\n",
    "1. Manually calculate mean:\n",
    "\n",
    "    Write a function that takes in values and returns the mean of the values. Create a list of numbers that you test on your function to check to make sure your function works!\n",
    "    \n",
    "    *Note*: Do not use any mean methods built-in to any Python libraries to do this! This should be done without importing any additional libraries."
   ]
  },
  {
   "cell_type": "code",
   "execution_count": 150,
   "metadata": {},
   "outputs": [
    {
     "data": {
      "text/plain": [
       "10.5"
      ]
     },
     "execution_count": 150,
     "metadata": {},
     "output_type": "execute_result"
    }
   ],
   "source": [
    "def mean(data):\n",
    "    return sum(data) / len(data)\n",
    "\n",
    "sample_data = [1,2,3,4,5,6,7,8,9,10,11,12,13,14,15,16,17,18,19,20]\n",
    "\n",
    "mean(sample_data)"
   ]
  },
  {
   "cell_type": "markdown",
   "metadata": {},
   "source": [
    "2. Manually calculate standard deviation:\n",
    "\n",
    "    The formula for standard deviation is below:\n",
    "\n",
    "    $$\\sigma = \\sqrt{\\frac{1}{n}\\sum_{i=1}^n(x_i - \\mu)^2}$$\n",
    "\n",
    "    Where $x_i$ represents each value in the dataset, $\\mu$ represents the mean of all values in the dataset and $n$ represents the number of values in the dataset.\n",
    "\n",
    "    Write a function that takes in values and returns the standard deviation of the values using the formula above. Hint: use the function you wrote above to calculate the mean! Use the list of numbers you created above to test on your function.\n",
    "    \n",
    "    *Note*: Do not use any standard deviation methods built-in to any Python libraries to do this! This should be done without importing any additional libraries."
   ]
  },
  {
   "cell_type": "code",
   "execution_count": 151,
   "metadata": {},
   "outputs": [
    {
     "name": "stdout",
     "output_type": "stream",
     "text": [
      "Sample Mean: 10.5\n",
      "Std Deviation: 5.766281297335398\n"
     ]
    }
   ],
   "source": [
    "def mean(data):\n",
    "    return sum(data) / len(data)\n",
    "\n",
    "def std_dev(data):\n",
    "    n = len(data)\n",
    "    mean_value = mean(data)\n",
    "    \n",
    "    squared_deviations = [(x - mean_value)**2 for x in data]\n",
    "    sum_squared_deviations = sum(squared_deviations)\n",
    "    \n",
    "    std_deviation = (sum_squared_deviations / n)**0.5\n",
    "    return std_deviation\n",
    "\n",
    "\n",
    "#Calculate mean using mean function\n",
    "mean_value_sample = mean(sample_data)\n",
    "print (f'Sample Mean: {mean_value_sample}')\n",
    "\n",
    "# Calculate standard deviation using std_dev function\n",
    "std_dev_sample = std_dev(sample_data)\n",
    "print (f'Std Deviation: {std_dev_sample}')\n"
   ]
  },
  {
   "cell_type": "markdown",
   "metadata": {},
   "source": [
    "--- \n",
    "# Part 2\n",
    "\n",
    "Part 2 requires knowledge of Pandas, EDA, data cleaning, and data visualization.\n",
    "\n",
    "---"
   ]
  },
  {
   "cell_type": "markdown",
   "metadata": {},
   "source": [
    "*All libraries used should be added here*"
   ]
  },
  {
   "cell_type": "code",
   "execution_count": 152,
   "metadata": {},
   "outputs": [],
   "source": [
    "import numpy as np\n",
    "import pandas as pd\n",
    "from scipy import stats\n",
    "\n",
    "import matplotlib.pyplot as plt\n",
    "import matplotlib.patches as mpatches\n",
    "import seaborn as sns\n",
    "import plotly.graph_objects as go"
   ]
  },
  {
   "cell_type": "markdown",
   "metadata": {},
   "source": [
    "## Data Import and Cleaning"
   ]
  },
  {
   "cell_type": "markdown",
   "metadata": {},
   "source": [
    "### Data Import & Cleaning\n",
    "\n",
    "Import all the datasets that you selected for this project and go through the following steps at a minimum. You are welcome to do further cleaning as you feel necessary. Make sure to comment your code to showcase the intent behind the data processing step.\n",
    "1. Display the data: print the first 5 rows of each dataframe to your Jupyter notebook.\n",
    "2. Check for missing values and datatype.\n",
    "3. Check for any obvious issues with the observations.\n",
    "4. Fix any errors you identified in steps 2-3.\n",
    "6. Fix any incorrect data types found in step 5.\n",
    "    - Fix any individual values preventing other columns from being the appropriate type.\n",
    "    - If the month column data is better analyzed as month and year, create new columns for the same\n",
    "7. Rename Columns.\n",
    "    - Column names should be all lowercase.\n",
    "    - Column names should not contain spaces (underscores will suffice--this allows for using the `df.column_name` method to access columns in addition to `df['column_name']`).\n",
    "    - Column names should be unique and informative.\n",
    "8. Drop unnecessary rows (if needed).\n",
    "9. Merge dataframes that can be merged.\n",
    "    - Since different climate metrics are in month format, you can merge them into one single dataframe for easier analysis\n",
    "10. Perform any additional cleaning that you feel is necessary.\n",
    "11. Save your cleaned and merged dataframes as csv files."
   ]
  },
  {
   "cell_type": "markdown",
   "metadata": {},
   "source": [
    "### Weather Data & Retail Store Statistics"
   ]
  },
  {
   "cell_type": "code",
   "execution_count": 193,
   "metadata": {},
   "outputs": [],
   "source": [
    "# Import data sets\n",
    "rainfall_mthly = pd.read_csv('../data/rainfall-monthly-total.csv')\n",
    "raindays_mthly = pd.read_csv('../data/rainfall-monthly-number-of-rain-days.csv')\n",
    "havaianas_visitors = pd.read_csv('../data/havaianas_visitors.csv')\n",
    "retail_sales = pd.read_csv('../data/retail_sales.csv')"
   ]
  },
  {
   "cell_type": "markdown",
   "metadata": {},
   "source": [
    "###### Monthly Rainfall Data"
   ]
  },
  {
   "cell_type": "code",
   "execution_count": 154,
   "metadata": {},
   "outputs": [
    {
     "data": {
      "text/plain": [
       "pandas.core.frame.DataFrame"
      ]
     },
     "execution_count": 154,
     "metadata": {},
     "output_type": "execute_result"
    }
   ],
   "source": [
    "# Check for data type\n",
    "type(rainfall_mthly)"
   ]
  },
  {
   "cell_type": "code",
   "execution_count": 155,
   "metadata": {},
   "outputs": [
    {
     "data": {
      "text/plain": [
       "(498, 2)"
      ]
     },
     "execution_count": 155,
     "metadata": {},
     "output_type": "execute_result"
    }
   ],
   "source": [
    "# Show the number of rows and columns\n",
    "rainfall_mthly.shape"
   ]
  },
  {
   "cell_type": "code",
   "execution_count": 156,
   "metadata": {},
   "outputs": [
    {
     "data": {
      "text/html": [
       "<div>\n",
       "<style scoped>\n",
       "    .dataframe tbody tr th:only-of-type {\n",
       "        vertical-align: middle;\n",
       "    }\n",
       "\n",
       "    .dataframe tbody tr th {\n",
       "        vertical-align: top;\n",
       "    }\n",
       "\n",
       "    .dataframe thead th {\n",
       "        text-align: right;\n",
       "    }\n",
       "</style>\n",
       "<table border=\"1\" class=\"dataframe\">\n",
       "  <thead>\n",
       "    <tr style=\"text-align: right;\">\n",
       "      <th></th>\n",
       "      <th>month</th>\n",
       "      <th>total_rainfall</th>\n",
       "    </tr>\n",
       "  </thead>\n",
       "  <tbody>\n",
       "    <tr>\n",
       "      <th>0</th>\n",
       "      <td>1982-01</td>\n",
       "      <td>107.1</td>\n",
       "    </tr>\n",
       "    <tr>\n",
       "      <th>1</th>\n",
       "      <td>1982-02</td>\n",
       "      <td>27.8</td>\n",
       "    </tr>\n",
       "    <tr>\n",
       "      <th>2</th>\n",
       "      <td>1982-03</td>\n",
       "      <td>160.8</td>\n",
       "    </tr>\n",
       "    <tr>\n",
       "      <th>3</th>\n",
       "      <td>1982-04</td>\n",
       "      <td>157.0</td>\n",
       "    </tr>\n",
       "    <tr>\n",
       "      <th>4</th>\n",
       "      <td>1982-05</td>\n",
       "      <td>102.2</td>\n",
       "    </tr>\n",
       "  </tbody>\n",
       "</table>\n",
       "</div>"
      ],
      "text/plain": [
       "     month  total_rainfall\n",
       "0  1982-01           107.1\n",
       "1  1982-02            27.8\n",
       "2  1982-03           160.8\n",
       "3  1982-04           157.0\n",
       "4  1982-05           102.2"
      ]
     },
     "execution_count": 156,
     "metadata": {},
     "output_type": "execute_result"
    }
   ],
   "source": [
    "# Display first 5 rows of data\n",
    "rainfall_mthly.head()"
   ]
  },
  {
   "cell_type": "code",
   "execution_count": 157,
   "metadata": {},
   "outputs": [
    {
     "name": "stdout",
     "output_type": "stream",
     "text": [
      "<class 'pandas.core.frame.DataFrame'>\n",
      "RangeIndex: 498 entries, 0 to 497\n",
      "Data columns (total 2 columns):\n",
      " #   Column          Non-Null Count  Dtype  \n",
      "---  ------          --------------  -----  \n",
      " 0   month           498 non-null    object \n",
      " 1   total_rainfall  498 non-null    float64\n",
      "dtypes: float64(1), object(1)\n",
      "memory usage: 7.9+ KB\n"
     ]
    }
   ],
   "source": [
    "# Check for missing values\n",
    "rainfall_mthly.info()"
   ]
  },
  {
   "cell_type": "code",
   "execution_count": 158,
   "metadata": {},
   "outputs": [
    {
     "data": {
      "text/html": [
       "<div>\n",
       "<style scoped>\n",
       "    .dataframe tbody tr th:only-of-type {\n",
       "        vertical-align: middle;\n",
       "    }\n",
       "\n",
       "    .dataframe tbody tr th {\n",
       "        vertical-align: top;\n",
       "    }\n",
       "\n",
       "    .dataframe thead th {\n",
       "        text-align: right;\n",
       "    }\n",
       "</style>\n",
       "<table border=\"1\" class=\"dataframe\">\n",
       "  <thead>\n",
       "    <tr style=\"text-align: right;\">\n",
       "      <th></th>\n",
       "      <th>month</th>\n",
       "      <th>total_rainfall</th>\n",
       "      <th>year</th>\n",
       "    </tr>\n",
       "  </thead>\n",
       "  <tbody>\n",
       "    <tr>\n",
       "      <th>0</th>\n",
       "      <td>01</td>\n",
       "      <td>107.1</td>\n",
       "      <td>1982</td>\n",
       "    </tr>\n",
       "    <tr>\n",
       "      <th>1</th>\n",
       "      <td>02</td>\n",
       "      <td>27.8</td>\n",
       "      <td>1982</td>\n",
       "    </tr>\n",
       "    <tr>\n",
       "      <th>2</th>\n",
       "      <td>03</td>\n",
       "      <td>160.8</td>\n",
       "      <td>1982</td>\n",
       "    </tr>\n",
       "    <tr>\n",
       "      <th>3</th>\n",
       "      <td>04</td>\n",
       "      <td>157.0</td>\n",
       "      <td>1982</td>\n",
       "    </tr>\n",
       "    <tr>\n",
       "      <th>4</th>\n",
       "      <td>05</td>\n",
       "      <td>102.2</td>\n",
       "      <td>1982</td>\n",
       "    </tr>\n",
       "  </tbody>\n",
       "</table>\n",
       "</div>"
      ],
      "text/plain": [
       "  month  total_rainfall  year\n",
       "0    01           107.1  1982\n",
       "1    02            27.8  1982\n",
       "2    03           160.8  1982\n",
       "3    04           157.0  1982\n",
       "4    05           102.2  1982"
      ]
     },
     "execution_count": 158,
     "metadata": {},
     "output_type": "execute_result"
    }
   ],
   "source": [
    "# Split the \"month\" column into \"year\" and \"month\" columns\n",
    "rainfall_mthly[['year', 'month']] = rainfall_mthly['month'].str.split('-', expand=True)\n",
    "\n",
    "rainfall_mthly.head()"
   ]
  },
  {
   "cell_type": "code",
   "execution_count": 159,
   "metadata": {},
   "outputs": [
    {
     "data": {
      "text/plain": [
       "month               int64\n",
       "total_rainfall    float64\n",
       "year                int64\n",
       "dtype: object"
      ]
     },
     "execution_count": 159,
     "metadata": {},
     "output_type": "execute_result"
    }
   ],
   "source": [
    "# Convert 'month' and 'year' columns from string to float type\n",
    "rainfall_mthly['month'] = rainfall_mthly['month'].astype(int)\n",
    "rainfall_mthly['year'] = rainfall_mthly['year'].astype(int)\n",
    "\n",
    "rainfall_mthly.dtypes"
   ]
  },
  {
   "cell_type": "markdown",
   "metadata": {},
   "source": [
    "###### Monthly Rain Days Data"
   ]
  },
  {
   "cell_type": "code",
   "execution_count": 160,
   "metadata": {},
   "outputs": [
    {
     "data": {
      "text/plain": [
       "pandas.core.frame.DataFrame"
      ]
     },
     "execution_count": 160,
     "metadata": {},
     "output_type": "execute_result"
    }
   ],
   "source": [
    "# Check for data type\n",
    "type(raindays_mthly)"
   ]
  },
  {
   "cell_type": "code",
   "execution_count": 161,
   "metadata": {},
   "outputs": [
    {
     "data": {
      "text/plain": [
       "(498, 2)"
      ]
     },
     "execution_count": 161,
     "metadata": {},
     "output_type": "execute_result"
    }
   ],
   "source": [
    "# Show the number of rows and columns\n",
    "raindays_mthly.shape"
   ]
  },
  {
   "cell_type": "code",
   "execution_count": 162,
   "metadata": {},
   "outputs": [
    {
     "data": {
      "text/html": [
       "<div>\n",
       "<style scoped>\n",
       "    .dataframe tbody tr th:only-of-type {\n",
       "        vertical-align: middle;\n",
       "    }\n",
       "\n",
       "    .dataframe tbody tr th {\n",
       "        vertical-align: top;\n",
       "    }\n",
       "\n",
       "    .dataframe thead th {\n",
       "        text-align: right;\n",
       "    }\n",
       "</style>\n",
       "<table border=\"1\" class=\"dataframe\">\n",
       "  <thead>\n",
       "    <tr style=\"text-align: right;\">\n",
       "      <th></th>\n",
       "      <th>month</th>\n",
       "      <th>no_of_rainy_days</th>\n",
       "    </tr>\n",
       "  </thead>\n",
       "  <tbody>\n",
       "    <tr>\n",
       "      <th>0</th>\n",
       "      <td>1982-01</td>\n",
       "      <td>10</td>\n",
       "    </tr>\n",
       "    <tr>\n",
       "      <th>1</th>\n",
       "      <td>1982-02</td>\n",
       "      <td>5</td>\n",
       "    </tr>\n",
       "    <tr>\n",
       "      <th>2</th>\n",
       "      <td>1982-03</td>\n",
       "      <td>11</td>\n",
       "    </tr>\n",
       "    <tr>\n",
       "      <th>3</th>\n",
       "      <td>1982-04</td>\n",
       "      <td>14</td>\n",
       "    </tr>\n",
       "    <tr>\n",
       "      <th>4</th>\n",
       "      <td>1982-05</td>\n",
       "      <td>10</td>\n",
       "    </tr>\n",
       "  </tbody>\n",
       "</table>\n",
       "</div>"
      ],
      "text/plain": [
       "     month  no_of_rainy_days\n",
       "0  1982-01                10\n",
       "1  1982-02                 5\n",
       "2  1982-03                11\n",
       "3  1982-04                14\n",
       "4  1982-05                10"
      ]
     },
     "execution_count": 162,
     "metadata": {},
     "output_type": "execute_result"
    }
   ],
   "source": [
    "# Display first 5 rows of data\n",
    "raindays_mthly.head()"
   ]
  },
  {
   "cell_type": "code",
   "execution_count": 163,
   "metadata": {},
   "outputs": [
    {
     "name": "stdout",
     "output_type": "stream",
     "text": [
      "<class 'pandas.core.frame.DataFrame'>\n",
      "RangeIndex: 498 entries, 0 to 497\n",
      "Data columns (total 2 columns):\n",
      " #   Column            Non-Null Count  Dtype \n",
      "---  ------            --------------  ----- \n",
      " 0   month             498 non-null    object\n",
      " 1   no_of_rainy_days  498 non-null    int64 \n",
      "dtypes: int64(1), object(1)\n",
      "memory usage: 7.9+ KB\n"
     ]
    }
   ],
   "source": [
    "# Check for missing values\n",
    "raindays_mthly.info()"
   ]
  },
  {
   "cell_type": "code",
   "execution_count": 164,
   "metadata": {},
   "outputs": [
    {
     "data": {
      "text/html": [
       "<div>\n",
       "<style scoped>\n",
       "    .dataframe tbody tr th:only-of-type {\n",
       "        vertical-align: middle;\n",
       "    }\n",
       "\n",
       "    .dataframe tbody tr th {\n",
       "        vertical-align: top;\n",
       "    }\n",
       "\n",
       "    .dataframe thead th {\n",
       "        text-align: right;\n",
       "    }\n",
       "</style>\n",
       "<table border=\"1\" class=\"dataframe\">\n",
       "  <thead>\n",
       "    <tr style=\"text-align: right;\">\n",
       "      <th></th>\n",
       "      <th>month</th>\n",
       "      <th>no_of_rainy_days</th>\n",
       "      <th>year</th>\n",
       "    </tr>\n",
       "  </thead>\n",
       "  <tbody>\n",
       "    <tr>\n",
       "      <th>0</th>\n",
       "      <td>01</td>\n",
       "      <td>10</td>\n",
       "      <td>1982</td>\n",
       "    </tr>\n",
       "    <tr>\n",
       "      <th>1</th>\n",
       "      <td>02</td>\n",
       "      <td>5</td>\n",
       "      <td>1982</td>\n",
       "    </tr>\n",
       "    <tr>\n",
       "      <th>2</th>\n",
       "      <td>03</td>\n",
       "      <td>11</td>\n",
       "      <td>1982</td>\n",
       "    </tr>\n",
       "    <tr>\n",
       "      <th>3</th>\n",
       "      <td>04</td>\n",
       "      <td>14</td>\n",
       "      <td>1982</td>\n",
       "    </tr>\n",
       "    <tr>\n",
       "      <th>4</th>\n",
       "      <td>05</td>\n",
       "      <td>10</td>\n",
       "      <td>1982</td>\n",
       "    </tr>\n",
       "  </tbody>\n",
       "</table>\n",
       "</div>"
      ],
      "text/plain": [
       "  month  no_of_rainy_days  year\n",
       "0    01                10  1982\n",
       "1    02                 5  1982\n",
       "2    03                11  1982\n",
       "3    04                14  1982\n",
       "4    05                10  1982"
      ]
     },
     "execution_count": 164,
     "metadata": {},
     "output_type": "execute_result"
    }
   ],
   "source": [
    "# Split the \"month\" column into \"year\" and \"month\" columns\n",
    "raindays_mthly[['year', 'month']] = raindays_mthly['month'].str.split('-', expand=True)\n",
    "\n",
    "raindays_mthly.head()"
   ]
  },
  {
   "cell_type": "code",
   "execution_count": 165,
   "metadata": {},
   "outputs": [
    {
     "data": {
      "text/plain": [
       "month               int64\n",
       "no_of_rainy_days    int64\n",
       "year                int64\n",
       "dtype: object"
      ]
     },
     "execution_count": 165,
     "metadata": {},
     "output_type": "execute_result"
    }
   ],
   "source": [
    "# Convert 'month' and 'year' columns from string to float type\n",
    "raindays_mthly['month'] = raindays_mthly['month'].astype(int)\n",
    "raindays_mthly['year'] = raindays_mthly['year'].astype(int)\n",
    "\n",
    "raindays_mthly.dtypes"
   ]
  },
  {
   "cell_type": "markdown",
   "metadata": {},
   "source": [
    "###### Havaianas Store Footfall"
   ]
  },
  {
   "cell_type": "code",
   "execution_count": 166,
   "metadata": {},
   "outputs": [
    {
     "data": {
      "text/plain": [
       "pandas.core.frame.DataFrame"
      ]
     },
     "execution_count": 166,
     "metadata": {},
     "output_type": "execute_result"
    }
   ],
   "source": [
    "# Check for data type\n",
    "type(havaianas_visitors)"
   ]
  },
  {
   "cell_type": "code",
   "execution_count": 167,
   "metadata": {},
   "outputs": [
    {
     "data": {
      "text/plain": [
       "(365, 2)"
      ]
     },
     "execution_count": 167,
     "metadata": {},
     "output_type": "execute_result"
    }
   ],
   "source": [
    "# Show the number of rows and columns\n",
    "havaianas_visitors.shape"
   ]
  },
  {
   "cell_type": "code",
   "execution_count": 168,
   "metadata": {},
   "outputs": [
    {
     "data": {
      "text/html": [
       "<div>\n",
       "<style scoped>\n",
       "    .dataframe tbody tr th:only-of-type {\n",
       "        vertical-align: middle;\n",
       "    }\n",
       "\n",
       "    .dataframe tbody tr th {\n",
       "        vertical-align: top;\n",
       "    }\n",
       "\n",
       "    .dataframe thead th {\n",
       "        text-align: right;\n",
       "    }\n",
       "</style>\n",
       "<table border=\"1\" class=\"dataframe\">\n",
       "  <thead>\n",
       "    <tr style=\"text-align: right;\">\n",
       "      <th></th>\n",
       "      <th>date</th>\n",
       "      <th>traffic_in</th>\n",
       "    </tr>\n",
       "  </thead>\n",
       "  <tbody>\n",
       "    <tr>\n",
       "      <th>0</th>\n",
       "      <td>1/1/15</td>\n",
       "      <td>5238</td>\n",
       "    </tr>\n",
       "    <tr>\n",
       "      <th>1</th>\n",
       "      <td>1/2/15</td>\n",
       "      <td>4324</td>\n",
       "    </tr>\n",
       "    <tr>\n",
       "      <th>2</th>\n",
       "      <td>1/3/15</td>\n",
       "      <td>5302</td>\n",
       "    </tr>\n",
       "    <tr>\n",
       "      <th>3</th>\n",
       "      <td>1/4/15</td>\n",
       "      <td>4590</td>\n",
       "    </tr>\n",
       "    <tr>\n",
       "      <th>4</th>\n",
       "      <td>1/5/15</td>\n",
       "      <td>1668</td>\n",
       "    </tr>\n",
       "  </tbody>\n",
       "</table>\n",
       "</div>"
      ],
      "text/plain": [
       "     date  traffic_in\n",
       "0  1/1/15        5238\n",
       "1  1/2/15        4324\n",
       "2  1/3/15        5302\n",
       "3  1/4/15        4590\n",
       "4  1/5/15        1668"
      ]
     },
     "execution_count": 168,
     "metadata": {},
     "output_type": "execute_result"
    }
   ],
   "source": [
    "# Display first 5 rows of data\n",
    "havaianas_visitors.head()"
   ]
  },
  {
   "cell_type": "code",
   "execution_count": 169,
   "metadata": {},
   "outputs": [
    {
     "name": "stdout",
     "output_type": "stream",
     "text": [
      "<class 'pandas.core.frame.DataFrame'>\n",
      "RangeIndex: 365 entries, 0 to 364\n",
      "Data columns (total 2 columns):\n",
      " #   Column      Non-Null Count  Dtype \n",
      "---  ------      --------------  ----- \n",
      " 0   date        365 non-null    object\n",
      " 1   traffic_in  365 non-null    int64 \n",
      "dtypes: int64(1), object(1)\n",
      "memory usage: 5.8+ KB\n"
     ]
    }
   ],
   "source": [
    "# Check for missing values\n",
    "havaianas_visitors.info()"
   ]
  },
  {
   "cell_type": "code",
   "execution_count": 170,
   "metadata": {},
   "outputs": [
    {
     "data": {
      "text/html": [
       "<div>\n",
       "<style scoped>\n",
       "    .dataframe tbody tr th:only-of-type {\n",
       "        vertical-align: middle;\n",
       "    }\n",
       "\n",
       "    .dataframe tbody tr th {\n",
       "        vertical-align: top;\n",
       "    }\n",
       "\n",
       "    .dataframe thead th {\n",
       "        text-align: right;\n",
       "    }\n",
       "</style>\n",
       "<table border=\"1\" class=\"dataframe\">\n",
       "  <thead>\n",
       "    <tr style=\"text-align: right;\">\n",
       "      <th></th>\n",
       "      <th>date</th>\n",
       "      <th>traffic_in</th>\n",
       "      <th>month</th>\n",
       "      <th>day</th>\n",
       "      <th>year</th>\n",
       "    </tr>\n",
       "  </thead>\n",
       "  <tbody>\n",
       "    <tr>\n",
       "      <th>0</th>\n",
       "      <td>1/1/15</td>\n",
       "      <td>5238</td>\n",
       "      <td>1</td>\n",
       "      <td>1</td>\n",
       "      <td>15</td>\n",
       "    </tr>\n",
       "    <tr>\n",
       "      <th>1</th>\n",
       "      <td>1/2/15</td>\n",
       "      <td>4324</td>\n",
       "      <td>1</td>\n",
       "      <td>2</td>\n",
       "      <td>15</td>\n",
       "    </tr>\n",
       "    <tr>\n",
       "      <th>2</th>\n",
       "      <td>1/3/15</td>\n",
       "      <td>5302</td>\n",
       "      <td>1</td>\n",
       "      <td>3</td>\n",
       "      <td>15</td>\n",
       "    </tr>\n",
       "    <tr>\n",
       "      <th>3</th>\n",
       "      <td>1/4/15</td>\n",
       "      <td>4590</td>\n",
       "      <td>1</td>\n",
       "      <td>4</td>\n",
       "      <td>15</td>\n",
       "    </tr>\n",
       "    <tr>\n",
       "      <th>4</th>\n",
       "      <td>1/5/15</td>\n",
       "      <td>1668</td>\n",
       "      <td>1</td>\n",
       "      <td>5</td>\n",
       "      <td>15</td>\n",
       "    </tr>\n",
       "  </tbody>\n",
       "</table>\n",
       "</div>"
      ],
      "text/plain": [
       "     date  traffic_in month day year\n",
       "0  1/1/15        5238     1   1   15\n",
       "1  1/2/15        4324     1   2   15\n",
       "2  1/3/15        5302     1   3   15\n",
       "3  1/4/15        4590     1   4   15\n",
       "4  1/5/15        1668     1   5   15"
      ]
     },
     "execution_count": 170,
     "metadata": {},
     "output_type": "execute_result"
    }
   ],
   "source": [
    "# Split the \"date\" column into \"year\", \"month\", \"day\" columns\n",
    "havaianas_visitors[['month','day','year']] = havaianas_visitors['date'].str.split('/', expand=True)\n",
    "\n",
    "havaianas_visitors.head()"
   ]
  },
  {
   "cell_type": "code",
   "execution_count": 171,
   "metadata": {},
   "outputs": [
    {
     "data": {
      "text/html": [
       "<div>\n",
       "<style scoped>\n",
       "    .dataframe tbody tr th:only-of-type {\n",
       "        vertical-align: middle;\n",
       "    }\n",
       "\n",
       "    .dataframe tbody tr th {\n",
       "        vertical-align: top;\n",
       "    }\n",
       "\n",
       "    .dataframe thead th {\n",
       "        text-align: right;\n",
       "    }\n",
       "</style>\n",
       "<table border=\"1\" class=\"dataframe\">\n",
       "  <thead>\n",
       "    <tr style=\"text-align: right;\">\n",
       "      <th></th>\n",
       "      <th>date</th>\n",
       "      <th>traffic_in</th>\n",
       "      <th>month</th>\n",
       "      <th>day</th>\n",
       "      <th>year</th>\n",
       "    </tr>\n",
       "  </thead>\n",
       "  <tbody>\n",
       "    <tr>\n",
       "      <th>0</th>\n",
       "      <td>1/1/15</td>\n",
       "      <td>5238</td>\n",
       "      <td>1</td>\n",
       "      <td>1</td>\n",
       "      <td>2015</td>\n",
       "    </tr>\n",
       "    <tr>\n",
       "      <th>1</th>\n",
       "      <td>1/2/15</td>\n",
       "      <td>4324</td>\n",
       "      <td>1</td>\n",
       "      <td>2</td>\n",
       "      <td>2015</td>\n",
       "    </tr>\n",
       "    <tr>\n",
       "      <th>2</th>\n",
       "      <td>1/3/15</td>\n",
       "      <td>5302</td>\n",
       "      <td>1</td>\n",
       "      <td>3</td>\n",
       "      <td>2015</td>\n",
       "    </tr>\n",
       "    <tr>\n",
       "      <th>3</th>\n",
       "      <td>1/4/15</td>\n",
       "      <td>4590</td>\n",
       "      <td>1</td>\n",
       "      <td>4</td>\n",
       "      <td>2015</td>\n",
       "    </tr>\n",
       "    <tr>\n",
       "      <th>4</th>\n",
       "      <td>1/5/15</td>\n",
       "      <td>1668</td>\n",
       "      <td>1</td>\n",
       "      <td>5</td>\n",
       "      <td>2015</td>\n",
       "    </tr>\n",
       "  </tbody>\n",
       "</table>\n",
       "</div>"
      ],
      "text/plain": [
       "     date  traffic_in month day  year\n",
       "0  1/1/15        5238     1   1  2015\n",
       "1  1/2/15        4324     1   2  2015\n",
       "2  1/3/15        5302     1   3  2015\n",
       "3  1/4/15        4590     1   4  2015\n",
       "4  1/5/15        1668     1   5  2015"
      ]
     },
     "execution_count": 171,
     "metadata": {},
     "output_type": "execute_result"
    }
   ],
   "source": [
    "# Replace the 'year' column to full year values\n",
    "havaianas_visitors['year'] = havaianas_visitors['year'].replace({'15': '2015'})\n",
    "\n",
    "havaianas_visitors.head()"
   ]
  },
  {
   "cell_type": "code",
   "execution_count": 172,
   "metadata": {},
   "outputs": [
    {
     "data": {
      "text/html": [
       "<div>\n",
       "<style scoped>\n",
       "    .dataframe tbody tr th:only-of-type {\n",
       "        vertical-align: middle;\n",
       "    }\n",
       "\n",
       "    .dataframe tbody tr th {\n",
       "        vertical-align: top;\n",
       "    }\n",
       "\n",
       "    .dataframe thead th {\n",
       "        text-align: right;\n",
       "    }\n",
       "</style>\n",
       "<table border=\"1\" class=\"dataframe\">\n",
       "  <thead>\n",
       "    <tr style=\"text-align: right;\">\n",
       "      <th></th>\n",
       "      <th>traffic_in</th>\n",
       "      <th>month</th>\n",
       "      <th>year</th>\n",
       "    </tr>\n",
       "  </thead>\n",
       "  <tbody>\n",
       "    <tr>\n",
       "      <th>0</th>\n",
       "      <td>5238</td>\n",
       "      <td>1</td>\n",
       "      <td>2015</td>\n",
       "    </tr>\n",
       "    <tr>\n",
       "      <th>1</th>\n",
       "      <td>4324</td>\n",
       "      <td>1</td>\n",
       "      <td>2015</td>\n",
       "    </tr>\n",
       "    <tr>\n",
       "      <th>2</th>\n",
       "      <td>5302</td>\n",
       "      <td>1</td>\n",
       "      <td>2015</td>\n",
       "    </tr>\n",
       "    <tr>\n",
       "      <th>3</th>\n",
       "      <td>4590</td>\n",
       "      <td>1</td>\n",
       "      <td>2015</td>\n",
       "    </tr>\n",
       "    <tr>\n",
       "      <th>4</th>\n",
       "      <td>1668</td>\n",
       "      <td>1</td>\n",
       "      <td>2015</td>\n",
       "    </tr>\n",
       "  </tbody>\n",
       "</table>\n",
       "</div>"
      ],
      "text/plain": [
       "   traffic_in month  year\n",
       "0        5238     1  2015\n",
       "1        4324     1  2015\n",
       "2        5302     1  2015\n",
       "3        4590     1  2015\n",
       "4        1668     1  2015"
      ]
     },
     "execution_count": 172,
     "metadata": {},
     "output_type": "execute_result"
    }
   ],
   "source": [
    "# Drop the 'date' and 'day' column\n",
    "havaianas_visitors = havaianas_visitors.drop(['date','day'], axis=1)\n",
    "\n",
    "havaianas_visitors.head()"
   ]
  },
  {
   "cell_type": "code",
   "execution_count": 173,
   "metadata": {},
   "outputs": [
    {
     "name": "stdout",
     "output_type": "stream",
     "text": [
      "<class 'pandas.core.frame.DataFrame'>\n",
      "RangeIndex: 365 entries, 0 to 364\n",
      "Data columns (total 3 columns):\n",
      " #   Column      Non-Null Count  Dtype\n",
      "---  ------      --------------  -----\n",
      " 0   traffic_in  365 non-null    int64\n",
      " 1   month       365 non-null    int64\n",
      " 2   year        365 non-null    int64\n",
      "dtypes: int64(3)\n",
      "memory usage: 8.7 KB\n"
     ]
    }
   ],
   "source": [
    "# Convert 'month' and 'year' columns from string to integer type\n",
    "havaianas_visitors['month'] = havaianas_visitors['month'].astype(int)\n",
    "havaianas_visitors['year'] = havaianas_visitors['year'].astype(int)\n",
    "\n",
    "havaianas_visitors.info()"
   ]
  },
  {
   "cell_type": "code",
   "execution_count": 174,
   "metadata": {},
   "outputs": [
    {
     "data": {
      "text/html": [
       "<div>\n",
       "<style scoped>\n",
       "    .dataframe tbody tr th:only-of-type {\n",
       "        vertical-align: middle;\n",
       "    }\n",
       "\n",
       "    .dataframe tbody tr th {\n",
       "        vertical-align: top;\n",
       "    }\n",
       "\n",
       "    .dataframe thead th {\n",
       "        text-align: right;\n",
       "    }\n",
       "</style>\n",
       "<table border=\"1\" class=\"dataframe\">\n",
       "  <thead>\n",
       "    <tr style=\"text-align: right;\">\n",
       "      <th></th>\n",
       "      <th>year</th>\n",
       "      <th>month</th>\n",
       "      <th>traffic_in</th>\n",
       "    </tr>\n",
       "  </thead>\n",
       "  <tbody>\n",
       "    <tr>\n",
       "      <th>0</th>\n",
       "      <td>2015</td>\n",
       "      <td>1</td>\n",
       "      <td>3384.322581</td>\n",
       "    </tr>\n",
       "    <tr>\n",
       "      <th>1</th>\n",
       "      <td>2015</td>\n",
       "      <td>2</td>\n",
       "      <td>7256.928571</td>\n",
       "    </tr>\n",
       "    <tr>\n",
       "      <th>2</th>\n",
       "      <td>2015</td>\n",
       "      <td>3</td>\n",
       "      <td>7156.258065</td>\n",
       "    </tr>\n",
       "    <tr>\n",
       "      <th>3</th>\n",
       "      <td>2015</td>\n",
       "      <td>4</td>\n",
       "      <td>6947.966667</td>\n",
       "    </tr>\n",
       "    <tr>\n",
       "      <th>4</th>\n",
       "      <td>2015</td>\n",
       "      <td>5</td>\n",
       "      <td>7238.161290</td>\n",
       "    </tr>\n",
       "  </tbody>\n",
       "</table>\n",
       "</div>"
      ],
      "text/plain": [
       "   year  month   traffic_in\n",
       "0  2015      1  3384.322581\n",
       "1  2015      2  7256.928571\n",
       "2  2015      3  7156.258065\n",
       "3  2015      4  6947.966667\n",
       "4  2015      5  7238.161290"
      ]
     },
     "execution_count": 174,
     "metadata": {},
     "output_type": "execute_result"
    }
   ],
   "source": [
    "# Calculate the mean values of 'traffic_in', sort by year and months\n",
    "grp_havaianas_visitors = havaianas_visitors.groupby(['year', 'month'])['traffic_in'].mean().reset_index()\n",
    "\n",
    "grp_havaianas_visitors.head()"
   ]
  },
  {
   "cell_type": "markdown",
   "metadata": {},
   "source": [
    "###### Merge datasets"
   ]
  },
  {
   "cell_type": "code",
   "execution_count": 175,
   "metadata": {},
   "outputs": [
    {
     "data": {
      "text/html": [
       "<div>\n",
       "<style scoped>\n",
       "    .dataframe tbody tr th:only-of-type {\n",
       "        vertical-align: middle;\n",
       "    }\n",
       "\n",
       "    .dataframe tbody tr th {\n",
       "        vertical-align: top;\n",
       "    }\n",
       "\n",
       "    .dataframe thead th {\n",
       "        text-align: right;\n",
       "    }\n",
       "</style>\n",
       "<table border=\"1\" class=\"dataframe\">\n",
       "  <thead>\n",
       "    <tr style=\"text-align: right;\">\n",
       "      <th></th>\n",
       "      <th>month</th>\n",
       "      <th>total_rainfall</th>\n",
       "      <th>year</th>\n",
       "      <th>traffic_in</th>\n",
       "    </tr>\n",
       "  </thead>\n",
       "  <tbody>\n",
       "    <tr>\n",
       "      <th>0</th>\n",
       "      <td>1</td>\n",
       "      <td>79.6</td>\n",
       "      <td>2015</td>\n",
       "      <td>3384.322581</td>\n",
       "    </tr>\n",
       "    <tr>\n",
       "      <th>1</th>\n",
       "      <td>2</td>\n",
       "      <td>18.8</td>\n",
       "      <td>2015</td>\n",
       "      <td>7256.928571</td>\n",
       "    </tr>\n",
       "    <tr>\n",
       "      <th>2</th>\n",
       "      <td>3</td>\n",
       "      <td>84.4</td>\n",
       "      <td>2015</td>\n",
       "      <td>7156.258065</td>\n",
       "    </tr>\n",
       "    <tr>\n",
       "      <th>3</th>\n",
       "      <td>4</td>\n",
       "      <td>73.2</td>\n",
       "      <td>2015</td>\n",
       "      <td>6947.966667</td>\n",
       "    </tr>\n",
       "    <tr>\n",
       "      <th>4</th>\n",
       "      <td>5</td>\n",
       "      <td>89.0</td>\n",
       "      <td>2015</td>\n",
       "      <td>7238.161290</td>\n",
       "    </tr>\n",
       "    <tr>\n",
       "      <th>5</th>\n",
       "      <td>6</td>\n",
       "      <td>95.8</td>\n",
       "      <td>2015</td>\n",
       "      <td>7367.766667</td>\n",
       "    </tr>\n",
       "    <tr>\n",
       "      <th>6</th>\n",
       "      <td>7</td>\n",
       "      <td>116.8</td>\n",
       "      <td>2015</td>\n",
       "      <td>7023.354839</td>\n",
       "    </tr>\n",
       "    <tr>\n",
       "      <th>7</th>\n",
       "      <td>8</td>\n",
       "      <td>185.8</td>\n",
       "      <td>2015</td>\n",
       "      <td>6018.741935</td>\n",
       "    </tr>\n",
       "    <tr>\n",
       "      <th>8</th>\n",
       "      <td>9</td>\n",
       "      <td>61.6</td>\n",
       "      <td>2015</td>\n",
       "      <td>5205.000000</td>\n",
       "    </tr>\n",
       "    <tr>\n",
       "      <th>9</th>\n",
       "      <td>10</td>\n",
       "      <td>87.2</td>\n",
       "      <td>2015</td>\n",
       "      <td>5604.161290</td>\n",
       "    </tr>\n",
       "    <tr>\n",
       "      <th>10</th>\n",
       "      <td>11</td>\n",
       "      <td>72.6</td>\n",
       "      <td>2015</td>\n",
       "      <td>6525.533333</td>\n",
       "    </tr>\n",
       "    <tr>\n",
       "      <th>11</th>\n",
       "      <td>12</td>\n",
       "      <td>302.3</td>\n",
       "      <td>2015</td>\n",
       "      <td>9863.096774</td>\n",
       "    </tr>\n",
       "  </tbody>\n",
       "</table>\n",
       "</div>"
      ],
      "text/plain": [
       "    month  total_rainfall  year   traffic_in\n",
       "0       1            79.6  2015  3384.322581\n",
       "1       2            18.8  2015  7256.928571\n",
       "2       3            84.4  2015  7156.258065\n",
       "3       4            73.2  2015  6947.966667\n",
       "4       5            89.0  2015  7238.161290\n",
       "5       6            95.8  2015  7367.766667\n",
       "6       7           116.8  2015  7023.354839\n",
       "7       8           185.8  2015  6018.741935\n",
       "8       9            61.6  2015  5205.000000\n",
       "9      10            87.2  2015  5604.161290\n",
       "10     11            72.6  2015  6525.533333\n",
       "11     12           302.3  2015  9863.096774"
      ]
     },
     "execution_count": 175,
     "metadata": {},
     "output_type": "execute_result"
    }
   ],
   "source": [
    "# Merge two data sets\n",
    "merged_df = pd.merge(rainfall_mthly, grp_havaianas_visitors, on=['year', 'month'], how='inner')\n",
    "\n",
    "merged_df"
   ]
  },
  {
   "cell_type": "code",
   "execution_count": 176,
   "metadata": {},
   "outputs": [
    {
     "data": {
      "text/html": [
       "<div>\n",
       "<style scoped>\n",
       "    .dataframe tbody tr th:only-of-type {\n",
       "        vertical-align: middle;\n",
       "    }\n",
       "\n",
       "    .dataframe tbody tr th {\n",
       "        vertical-align: top;\n",
       "    }\n",
       "\n",
       "    .dataframe thead th {\n",
       "        text-align: right;\n",
       "    }\n",
       "</style>\n",
       "<table border=\"1\" class=\"dataframe\">\n",
       "  <thead>\n",
       "    <tr style=\"text-align: right;\">\n",
       "      <th></th>\n",
       "      <th>year</th>\n",
       "      <th>month</th>\n",
       "      <th>total_rainfall</th>\n",
       "      <th>traffic_in</th>\n",
       "    </tr>\n",
       "  </thead>\n",
       "  <tbody>\n",
       "    <tr>\n",
       "      <th>0</th>\n",
       "      <td>2015</td>\n",
       "      <td>1</td>\n",
       "      <td>79.6</td>\n",
       "      <td>3384.322581</td>\n",
       "    </tr>\n",
       "    <tr>\n",
       "      <th>1</th>\n",
       "      <td>2015</td>\n",
       "      <td>2</td>\n",
       "      <td>18.8</td>\n",
       "      <td>7256.928571</td>\n",
       "    </tr>\n",
       "    <tr>\n",
       "      <th>2</th>\n",
       "      <td>2015</td>\n",
       "      <td>3</td>\n",
       "      <td>84.4</td>\n",
       "      <td>7156.258065</td>\n",
       "    </tr>\n",
       "    <tr>\n",
       "      <th>3</th>\n",
       "      <td>2015</td>\n",
       "      <td>4</td>\n",
       "      <td>73.2</td>\n",
       "      <td>6947.966667</td>\n",
       "    </tr>\n",
       "    <tr>\n",
       "      <th>4</th>\n",
       "      <td>2015</td>\n",
       "      <td>5</td>\n",
       "      <td>89.0</td>\n",
       "      <td>7238.161290</td>\n",
       "    </tr>\n",
       "    <tr>\n",
       "      <th>5</th>\n",
       "      <td>2015</td>\n",
       "      <td>6</td>\n",
       "      <td>95.8</td>\n",
       "      <td>7367.766667</td>\n",
       "    </tr>\n",
       "    <tr>\n",
       "      <th>6</th>\n",
       "      <td>2015</td>\n",
       "      <td>7</td>\n",
       "      <td>116.8</td>\n",
       "      <td>7023.354839</td>\n",
       "    </tr>\n",
       "    <tr>\n",
       "      <th>7</th>\n",
       "      <td>2015</td>\n",
       "      <td>8</td>\n",
       "      <td>185.8</td>\n",
       "      <td>6018.741935</td>\n",
       "    </tr>\n",
       "    <tr>\n",
       "      <th>8</th>\n",
       "      <td>2015</td>\n",
       "      <td>9</td>\n",
       "      <td>61.6</td>\n",
       "      <td>5205.000000</td>\n",
       "    </tr>\n",
       "    <tr>\n",
       "      <th>9</th>\n",
       "      <td>2015</td>\n",
       "      <td>10</td>\n",
       "      <td>87.2</td>\n",
       "      <td>5604.161290</td>\n",
       "    </tr>\n",
       "    <tr>\n",
       "      <th>10</th>\n",
       "      <td>2015</td>\n",
       "      <td>11</td>\n",
       "      <td>72.6</td>\n",
       "      <td>6525.533333</td>\n",
       "    </tr>\n",
       "    <tr>\n",
       "      <th>11</th>\n",
       "      <td>2015</td>\n",
       "      <td>12</td>\n",
       "      <td>302.3</td>\n",
       "      <td>9863.096774</td>\n",
       "    </tr>\n",
       "  </tbody>\n",
       "</table>\n",
       "</div>"
      ],
      "text/plain": [
       "    year  month  total_rainfall   traffic_in\n",
       "0   2015      1            79.6  3384.322581\n",
       "1   2015      2            18.8  7256.928571\n",
       "2   2015      3            84.4  7156.258065\n",
       "3   2015      4            73.2  6947.966667\n",
       "4   2015      5            89.0  7238.161290\n",
       "5   2015      6            95.8  7367.766667\n",
       "6   2015      7           116.8  7023.354839\n",
       "7   2015      8           185.8  6018.741935\n",
       "8   2015      9            61.6  5205.000000\n",
       "9   2015     10            87.2  5604.161290\n",
       "10  2015     11            72.6  6525.533333\n",
       "11  2015     12           302.3  9863.096774"
      ]
     },
     "execution_count": 176,
     "metadata": {},
     "output_type": "execute_result"
    }
   ],
   "source": [
    "# Rearrange columns, reassign to dataframe 'df'\n",
    "df = merged_df[['year','month','total_rainfall','traffic_in']]\n",
    "\n",
    "df"
   ]
  },
  {
   "cell_type": "code",
   "execution_count": 177,
   "metadata": {},
   "outputs": [
    {
     "name": "stdout",
     "output_type": "stream",
     "text": [
      "<class 'pandas.core.frame.DataFrame'>\n",
      "Int64Index: 12 entries, 0 to 11\n",
      "Data columns (total 4 columns):\n",
      " #   Column          Non-Null Count  Dtype  \n",
      "---  ------          --------------  -----  \n",
      " 0   year            12 non-null     int64  \n",
      " 1   month           12 non-null     int64  \n",
      " 2   total_rainfall  12 non-null     float64\n",
      " 3   traffic_in      12 non-null     float64\n",
      "dtypes: float64(2), int64(2)\n",
      "memory usage: 480.0 bytes\n"
     ]
    }
   ],
   "source": [
    "df.info()"
   ]
  },
  {
   "cell_type": "code",
   "execution_count": 178,
   "metadata": {},
   "outputs": [],
   "source": [
    "# Save your cleaned and merged dataframes as csv files\n",
    "grp_havaianas_visitors.to_csv('havaianas_footfall_mthly.csv', index=False)\n",
    "rainfall_mthly.to_csv('rainfall_mthly.csv', index=False)\n",
    "df.to_csv('rainfall_havaianas_footfall_mthly.csv', index=False)"
   ]
  },
  {
   "cell_type": "markdown",
   "metadata": {},
   "source": [
    "### Data Dictionary\n",
    "\n",
    "Now that we've fixed our data, and given it appropriate names, let's create a [data dictionary](http://library.ucmerced.edu/node/10249). \n",
    "\n",
    "A data dictionary provides a quick overview of features/variables/columns, alongside data types and descriptions. The more descriptive you can be, the more useful this document is.\n",
    "\n",
    "Example of a Fictional Data Dictionary Entry: \n",
    "\n",
    "|Feature|Type|Dataset|Description|\n",
    "|---|---|---|---|\n",
    "|**county_pop**|*integer*|2010 census|The population of the county (units in thousands, where 2.5 represents 2500 people).| \n",
    "|**per_poverty**|*float*|2010 census|The percent of the county over the age of 18 living below the 200% of official US poverty rate (units percent to two decimal places 98.10 means 98.1%)|\n",
    "\n",
    "[Here's a quick link to a short guide for formatting markdown in Jupyter notebooks](https://jupyter-notebook.readthedocs.io/en/stable/examples/Notebook/Working%20With%20Markdown%20Cells.html).\n",
    "\n",
    "Provided is the skeleton for formatting a markdown table, with columns headers that will help you create a data dictionary to quickly summarize your data, as well as some examples. **This would be a great thing to copy and paste into your custom README for this project.**\n",
    "\n",
    "*Note*: if you are unsure of what a feature is, check the source of the data! This can be found in the README."
   ]
  },
  {
   "cell_type": "markdown",
   "metadata": {},
   "source": [
    "**To-Do:** *Edit the table below to create your own data dictionary for the datasets you chose.*\n",
    "\n",
    "|Feature|Type|Dataset|Unit of measure|Description  \n",
    "|---|---|---|---|---|\n",
    "|total_rainfall|float|total monthly rainfall|millimetres (mm)|the average monthly rainfall recorded in year 2015|  \n",
    "|traffic_in|float|total number of visitors per month at Havaianas retail shop|number of visitors|the average monthly number of visitors entering the Havaianas retail shop in the year 2015| \n"
   ]
  },
  {
   "cell_type": "code",
   "execution_count": null,
   "metadata": {},
   "outputs": [],
   "source": []
  },
  {
   "cell_type": "markdown",
   "metadata": {},
   "source": [
    "## Exploratory Data Analysis\n",
    "\n",
    "Complete the following steps to explore your data. You are welcome to do more EDA than the steps outlined here as you feel necessary:\n",
    "1. Summary Statistics.\n",
    "2. Use a **dictionary comprehension** to apply the standard deviation function you create in part 1 to each numeric column in the dataframe.  **No loops**.\n",
    "    - Assign the output to variable `sd` as a dictionary where: \n",
    "        - Each column name is now a key \n",
    "        - That standard deviation of the column is the value \n",
    "        - *Example Output :* `{'rainfall-monthly-total': xxx, 'no_of_rainy_days': xxx, ...}`\n",
    "3. Investigate trends in the data.\n",
    "    - Using sorting and/or masking (along with the `.head()` method to avoid printing our entire dataframe), consider questions relevant to your problem statement. Some examples are provided below (but feel free to change these questions for your specific problem):\n",
    "        - Which month have the highest and lowest total rainfall in 1990, 2000, 2010 and 2020?\n",
    "        - Which year have the highest and lowest total rainfall in the date range of analysis?\n",
    "        - Which month have the highest and lowest number of rainy days in 1990, 2000, 2010 and 2020?\n",
    "        - Which year have the highest and lowest number of rainy days in the date range of analysis?\n",
    "        - Are there any outliers months in the dataset?\n",
    "       \n",
    "    - **The above 5 questions are compulsory. Feel free to explore other trends based on the datasets that you have choosen for analysis. You should comment on your findings at each step in a markdown cell below your code block**. Make sure you include at least one example of sorting your dataframe by a column, and one example of using boolean filtering (i.e., masking) to select a subset of the dataframe."
   ]
  },
  {
   "cell_type": "markdown",
   "metadata": {},
   "source": [
    "###### Statistics Summary"
   ]
  },
  {
   "cell_type": "code",
   "execution_count": 124,
   "metadata": {},
   "outputs": [
    {
     "data": {
      "text/html": [
       "<div>\n",
       "<style scoped>\n",
       "    .dataframe tbody tr th:only-of-type {\n",
       "        vertical-align: middle;\n",
       "    }\n",
       "\n",
       "    .dataframe tbody tr th {\n",
       "        vertical-align: top;\n",
       "    }\n",
       "\n",
       "    .dataframe thead th {\n",
       "        text-align: right;\n",
       "    }\n",
       "</style>\n",
       "<table border=\"1\" class=\"dataframe\">\n",
       "  <thead>\n",
       "    <tr style=\"text-align: right;\">\n",
       "      <th></th>\n",
       "      <th>year</th>\n",
       "      <th>month</th>\n",
       "      <th>total_rainfall</th>\n",
       "      <th>traffic_in</th>\n",
       "    </tr>\n",
       "  </thead>\n",
       "  <tbody>\n",
       "    <tr>\n",
       "      <th>count</th>\n",
       "      <td>12.0</td>\n",
       "      <td>12.000000</td>\n",
       "      <td>12.000000</td>\n",
       "      <td>12.000000</td>\n",
       "    </tr>\n",
       "    <tr>\n",
       "      <th>mean</th>\n",
       "      <td>2015.0</td>\n",
       "      <td>6.500000</td>\n",
       "      <td>105.591667</td>\n",
       "      <td>6632.607668</td>\n",
       "    </tr>\n",
       "    <tr>\n",
       "      <th>std</th>\n",
       "      <td>0.0</td>\n",
       "      <td>3.605551</td>\n",
       "      <td>73.046043</td>\n",
       "      <td>1546.102209</td>\n",
       "    </tr>\n",
       "    <tr>\n",
       "      <th>min</th>\n",
       "      <td>2015.0</td>\n",
       "      <td>1.000000</td>\n",
       "      <td>18.800000</td>\n",
       "      <td>3384.322581</td>\n",
       "    </tr>\n",
       "    <tr>\n",
       "      <th>25%</th>\n",
       "      <td>2015.0</td>\n",
       "      <td>3.750000</td>\n",
       "      <td>73.050000</td>\n",
       "      <td>5915.096774</td>\n",
       "    </tr>\n",
       "    <tr>\n",
       "      <th>50%</th>\n",
       "      <td>2015.0</td>\n",
       "      <td>6.500000</td>\n",
       "      <td>85.800000</td>\n",
       "      <td>6985.660753</td>\n",
       "    </tr>\n",
       "    <tr>\n",
       "      <th>75%</th>\n",
       "      <td>2015.0</td>\n",
       "      <td>9.250000</td>\n",
       "      <td>101.050000</td>\n",
       "      <td>7242.853111</td>\n",
       "    </tr>\n",
       "    <tr>\n",
       "      <th>max</th>\n",
       "      <td>2015.0</td>\n",
       "      <td>12.000000</td>\n",
       "      <td>302.300000</td>\n",
       "      <td>9863.096774</td>\n",
       "    </tr>\n",
       "  </tbody>\n",
       "</table>\n",
       "</div>"
      ],
      "text/plain": [
       "         year      month  total_rainfall   traffic_in\n",
       "count    12.0  12.000000       12.000000    12.000000\n",
       "mean   2015.0   6.500000      105.591667  6632.607668\n",
       "std       0.0   3.605551       73.046043  1546.102209\n",
       "min    2015.0   1.000000       18.800000  3384.322581\n",
       "25%    2015.0   3.750000       73.050000  5915.096774\n",
       "50%    2015.0   6.500000       85.800000  6985.660753\n",
       "75%    2015.0   9.250000      101.050000  7242.853111\n",
       "max    2015.0  12.000000      302.300000  9863.096774"
      ]
     },
     "execution_count": 124,
     "metadata": {},
     "output_type": "execute_result"
    }
   ],
   "source": [
    "df.describe()"
   ]
  },
  {
   "cell_type": "markdown",
   "metadata": {},
   "source": [
    "###### Standard Deviation of each column"
   ]
  },
  {
   "cell_type": "code",
   "execution_count": 179,
   "metadata": {},
   "outputs": [
    {
     "data": {
      "text/plain": [
       "{'year': 0.0,\n",
       " 'month': 3.452052529534663,\n",
       " 'total_rainfall': 69.93626215268364,\n",
       " 'traffic_in': 1480.2801663501268}"
      ]
     },
     "execution_count": 179,
     "metadata": {},
     "output_type": "execute_result"
    }
   ],
   "source": [
    "# Using dictionary comprehension to apply the standard deviation function created in part 1 to each column\n",
    "\n",
    "# Apply the std_dev function to each columns, and assign to variable 'sd'\n",
    "sd = df.apply(std_dev).to_dict()\n",
    "\n",
    "sd"
   ]
  },
  {
   "cell_type": "markdown",
   "metadata": {},
   "source": [
    "###### Data Analysis"
   ]
  },
  {
   "cell_type": "code",
   "execution_count": 185,
   "metadata": {},
   "outputs": [
    {
     "name": "stdout",
     "output_type": "stream",
     "text": [
      "     month  total_rainfall  year\n",
      "104      9           204.5  1990\n",
      "    month  total_rainfall  year\n",
      "97      2            24.1  1990\n",
      "     month  total_rainfall  year\n",
      "226     11           385.7  2000\n",
      "     month  total_rainfall  year\n",
      "224      9            81.1  2000\n",
      "     month  total_rainfall  year\n",
      "342      7           298.5  2010\n",
      "     month  total_rainfall  year\n",
      "337      2             6.3  2010\n",
      "     month  total_rainfall  year\n",
      "460      5           255.6  2020\n",
      "     month  total_rainfall  year\n",
      "457      2            65.0  2020\n"
     ]
    }
   ],
   "source": [
    "# Which month have the highest and lowest total rainfall in 1990, 2000, 2010 and 2020?\n",
    "# Filter data to year 1990\n",
    "year_filter = rainfall_mthly['year'] == 1990\n",
    "\n",
    "# Apply the mask to the data\n",
    "rainfall_1990 = rainfall_mthly[year_filter]\n",
    "\n",
    "# Sort by descending order and ascending order\n",
    "print(rainfall_1990.sort_values(by='total_rainfall', ascending=False).head(1))\n",
    "print(rainfall_1990.sort_values(by='total_rainfall').head(1))\n",
    "\n",
    "# Filter data to year 2000\n",
    "year_filter = rainfall_mthly['year'] == 2000\n",
    "\n",
    "# Apply the mask to the data\n",
    "rainfall_2000 = rainfall_mthly[year_filter]\n",
    "\n",
    "# Sort by descending order and ascending order\n",
    "print(rainfall_2000.sort_values(by='total_rainfall', ascending=False).head(1))\n",
    "print(rainfall_2000.sort_values(by='total_rainfall').head(1))\n",
    "\n",
    "# Filter data to year 2010\n",
    "year_filter = rainfall_mthly['year'] == 2010\n",
    "\n",
    "# Apply the mask to the data\n",
    "rainfall_2010 = rainfall_mthly[year_filter]\n",
    "\n",
    "# Sort by descending order and ascending order\n",
    "print(rainfall_2010.sort_values(by='total_rainfall', ascending=False).head(1))\n",
    "print(rainfall_2010.sort_values(by='total_rainfall').head(1))\n",
    "\n",
    "# Filter data to year 2020\n",
    "year_filter = rainfall_mthly['year'] == 2020\n",
    "\n",
    "# Apply the mask to the data\n",
    "rainfall_2020 = rainfall_mthly[year_filter]\n",
    "\n",
    "# Sort by descending order and ascending order\n",
    "print(rainfall_2020.sort_values(by='total_rainfall', ascending=False).head(1))\n",
    "print(rainfall_2020.sort_values(by='total_rainfall').head(1))"
   ]
  },
  {
   "cell_type": "markdown",
   "metadata": {},
   "source": [
    "Year 1990  \n",
    "Highest rainfall: September  \n",
    "Lowest rainfall: February  \n",
    "  \n",
    "Year 2000  \n",
    "Highest rainfall: November  \n",
    "Lowest rainfall: September  \n",
    "  \n",
    "Year 2010  \n",
    "Highest rainfall: July  \n",
    "Lowest rainfall: February  \n",
    "  \n",
    "Year 2020  \n",
    "Highest rainfall: May  \n",
    "Lowest rainfall: February"
   ]
  },
  {
   "cell_type": "code",
   "execution_count": 186,
   "metadata": {},
   "outputs": [
    {
     "name": "stdout",
     "output_type": "stream",
     "text": [
      "Lowest rainfall: \n",
      "     month  total_rainfall  year\n",
      "385      2             0.2  2014\n",
      "Highest rainfall: \n",
      "     month  total_rainfall  year\n",
      "299     12           765.9  2006\n"
     ]
    }
   ],
   "source": [
    "# Which year have the highest and lowest total rainfall in the date range of analysis?\n",
    "# Sort in ascending order\n",
    "print('Lowest rainfall: ')\n",
    "print(rainfall_mthly.sort_values(by='total_rainfall').head(1))\n",
    "\n",
    "# Sort in descending order\n",
    "print('Highest rainfall: ')\n",
    "print(rainfall_mthly.sort_values(by='total_rainfall', ascending=False).head(1))"
   ]
  },
  {
   "cell_type": "markdown",
   "metadata": {},
   "source": [
    "2014 has the lowest rainfall, while 2006 has the highest rainfall from dataset year 1982 till 2023."
   ]
  },
  {
   "cell_type": "code",
   "execution_count": 187,
   "metadata": {},
   "outputs": [
    {
     "name": "stdout",
     "output_type": "stream",
     "text": [
      "     month  no_of_rainy_days  year\n",
      "104      9                17  1990\n",
      "    month  no_of_rainy_days  year\n",
      "98      3                 4  1990\n",
      "     month  no_of_rainy_days  year\n",
      "226     11                21  2000\n",
      "     month  no_of_rainy_days  year\n",
      "220      5                10  2000\n",
      "     month  no_of_rainy_days  year\n",
      "346     11                21  2010\n",
      "     month  no_of_rainy_days  year\n",
      "337      2                 4  2010\n",
      "     month  no_of_rainy_days  year\n",
      "462      7                22  2020\n",
      "     month  no_of_rainy_days  year\n",
      "456      1                 6  2020\n"
     ]
    }
   ],
   "source": [
    "# Which month have the highest and lowest number of rainy days in 1990, 2000, 2010 and 2020?\n",
    "# Filter data to year 1990\n",
    "year_filter = raindays_mthly['year'] == 1990\n",
    "\n",
    "# Apply the mask to the data\n",
    "raindays_1990 = raindays_mthly[year_filter]\n",
    "\n",
    "# Sort by descending and ascending order\n",
    "print(raindays_1990.sort_values(by='no_of_rainy_days', ascending=False).head(1))\n",
    "print(raindays_1990.sort_values(by='no_of_rainy_days').head(1))\n",
    "\n",
    "# Filter data to year 2000\n",
    "year_filter = rainfall_mthly['year'] == 2000\n",
    "\n",
    "# Apply the mask to the data\n",
    "raindays_2000 = raindays_mthly[year_filter]\n",
    "\n",
    "# Sort by descending and ascending order\n",
    "print(raindays_2000.sort_values(by='no_of_rainy_days', ascending=False).head(1))\n",
    "print(raindays_2000.sort_values(by='no_of_rainy_days').head(1))\n",
    "\n",
    "# Filter data to year 2010\n",
    "year_filter = raindays_mthly['year'] == 2010\n",
    "\n",
    "# Apply the mask to the data\n",
    "raindays_2010 = raindays_mthly[year_filter]\n",
    "\n",
    "# Sort by descending and ascending order\n",
    "print(raindays_2010.sort_values(by='no_of_rainy_days', ascending=False).head(1))\n",
    "print(raindays_2010.sort_values(by='no_of_rainy_days').head(1))\n",
    "\n",
    "# Filter data to year 2020\n",
    "year_filter = raindays_mthly['year'] == 2020\n",
    "\n",
    "# Apply the mask to the data\n",
    "raindays_2020 = raindays_mthly[year_filter]\n",
    "\n",
    "# Sort by descending and ascending order\n",
    "print(raindays_2020.sort_values(by='no_of_rainy_days', ascending=False).head(1))\n",
    "print(raindays_2020.sort_values(by='no_of_rainy_days').head(1))"
   ]
  },
  {
   "cell_type": "markdown",
   "metadata": {},
   "source": [
    "Year 1990  \n",
    "Highest rainy days: September  \n",
    "Lowest rainy days: March  \n",
    "  \n",
    "Year 2000  \n",
    "Highest rainy days: November  \n",
    "Lowest rainy days: May  \n",
    "  \n",
    "Year 2010  \n",
    "Highest rainy days: November  \n",
    "Lowest rainy days: February  \n",
    "  \n",
    "Year 2020  \n",
    "Highest rainy days: July  \n",
    "Lowest rainy days: January"
   ]
  },
  {
   "cell_type": "code",
   "execution_count": 188,
   "metadata": {},
   "outputs": [
    {
     "name": "stdout",
     "output_type": "stream",
     "text": [
      "Lowest No. of Rainy Days: \n",
      "     month  no_of_rainy_days  year\n",
      "385      2                 1  2014\n",
      "Highest No. of Rainy Days: \n",
      "     month  no_of_rainy_days  year\n",
      "442     11                27  2018\n"
     ]
    }
   ],
   "source": [
    "# Which year have the highest and lowest number of rainy days in the date range of analysis?\n",
    "# Sort in ascending order\n",
    "print('Lowest No. of Rainy Days: ')\n",
    "print(raindays_mthly.sort_values('no_of_rainy_days').head(1))\n",
    "\n",
    "# Sort in descending order\n",
    "print('Highest No. of Rainy Days: ')\n",
    "print(raindays_mthly.sort_values(by='no_of_rainy_days', ascending=False).head(1))"
   ]
  },
  {
   "cell_type": "markdown",
   "metadata": {},
   "source": [
    "2014 has the lowest number of rainy days, while 2018 has the highest number of rainy days from dataset year 1982 till 2023."
   ]
  },
  {
   "cell_type": "code",
   "execution_count": 189,
   "metadata": {},
   "outputs": [
    {
     "name": "stdout",
     "output_type": "stream",
     "text": [
      "     month  total_rainfall  year\n",
      "60       1           568.6  1987\n",
      "239     12           609.0  2001\n",
      "264      1           600.9  2004\n",
      "299     12           765.9  2006\n",
      "468      1           692.8  2021\n"
     ]
    }
   ],
   "source": [
    "#Are there any outliers months in the 'rainfall_mthly' dataset?\n",
    "# Calculate the Z-scores for each column in the DataFrame\n",
    "z_scores = np.abs(stats.zscore(rainfall_mthly))\n",
    "\n",
    "# Define a threshold for Z-score to identify outliers (e.g., Z-score > 3)\n",
    "threshold = 3\n",
    "\n",
    "# Find and mark the outliers in the DataFrame\n",
    "outliers = (z_scores > threshold).any(axis=1)\n",
    "\n",
    "# Extract the rows containing outliers\n",
    "outlier_rows = rainfall_mthly[outliers]\n",
    "\n",
    "# Display the outlier rows\n",
    "print(outlier_rows)"
   ]
  },
  {
   "cell_type": "markdown",
   "metadata": {},
   "source": [
    "There are high amount of rainfall during Jan 1987, Dec 2001, Jan 2004, Dec 2006 and Jan 2021. It seems like there is a trend of occasional high rainfall during Jan and Dec months. However as it is not as frequent for an outlier to appear (it appears only 5X from year 1984 to 2003), thus we will choose to remove this outlier for further analysis of data."
   ]
  },
  {
   "cell_type": "code",
   "execution_count": 133,
   "metadata": {},
   "outputs": [
    {
     "name": "stdout",
     "output_type": "stream",
     "text": [
      "Empty DataFrame\n",
      "Columns: [year, month, total_rainfall, traffic_in]\n",
      "Index: []\n"
     ]
    }
   ],
   "source": [
    "#Are there any outliers months in the 'df' dataset?\n",
    "# Calculate the Z-scores for each column in the DataFrame\n",
    "z_scores = np.abs(stats.zscore(df))\n",
    "\n",
    "# Define a threshold for Z-score to identify outliers (e.g., Z-score > 3)\n",
    "threshold = 3\n",
    "\n",
    "# Find and mark the outliers in the DataFrame\n",
    "outliers = (z_scores > threshold).any(axis=1)\n",
    "\n",
    "# Extract the rows containing outliers\n",
    "outlier_rows = df[outliers]\n",
    "\n",
    "# Display the outlier rows\n",
    "print(outlier_rows)"
   ]
  },
  {
   "cell_type": "markdown",
   "metadata": {},
   "source": [
    "There are no outliers."
   ]
  },
  {
   "cell_type": "markdown",
   "metadata": {},
   "source": [
    "## Visualize the Data\n",
    "\n",
    "There's not a magic bullet recommendation for the right number of plots to understand a given dataset, but visualizing your data is *always* a good idea. Not only does it allow you to quickly convey your findings (even if you have a non-technical audience), it will often reveal trends in your data that escaped you when you were looking only at numbers. It is important to not only create visualizations, but to **interpret your visualizations** as well.\n",
    "\n",
    "**Every plot should**:\n",
    "- Have a title\n",
    "- Have axis labels\n",
    "- Have appropriate tick labels\n",
    "- Text is legible in a plot\n",
    "- Plots demonstrate meaningful and valid relationships\n",
    "- Have an interpretation to aid understanding\n",
    "\n",
    "Here is an example of what your plots should look like following the above guidelines. Note that while the content of this example is unrelated, the principles of visualization hold:\n",
    "\n",
    "![](https://snag.gy/hCBR1U.jpg)\n",
    "*Interpretation: The above image shows that as we increase our spending on advertising, our sales numbers also tend to increase. There is a positive correlation between advertising spending and sales.*\n",
    "\n",
    "---\n",
    "\n",
    "Here are some prompts to get you started with visualizations. Feel free to add additional visualizations as you see fit:\n",
    "1. Use Seaborn's heatmap with pandas `.corr()` to visualize correlations between all numeric features.\n",
    "    - Heatmaps are generally not appropriate for presentations, and should often be excluded from reports as they can be visually overwhelming. **However**, they can be extremely useful in identify relationships of potential interest (as well as identifying potential collinearity before modeling).\n",
    "    - Please take time to format your output, adding a title. Look through some of the additional arguments and options. (Axis labels aren't really necessary, as long as the title is informative).\n",
    "2. Visualize distributions using histograms. If you have a lot, consider writing a custom function and use subplots.\n",
    "    - *OPTIONAL*: Summarize the underlying distributions of your features (in words & statistics)\n",
    "         - Be thorough in your verbal description of these distributions.\n",
    "         - Be sure to back up these summaries with statistics.\n",
    "         - We generally assume that data we sample from a population will be normally distributed. Do we observe this trend? Explain your answers for each distribution and how you think this will affect estimates made from these data.\n",
    "3. Plot and interpret boxplots. \n",
    "    - Boxplots demonstrate central tendency and spread in variables. In a certain sense, these are somewhat redundant with histograms, but you may be better able to identify clear outliers or differences in IQR, etc.\n",
    "    - Multiple values can be plotted to a single boxplot as long as they are of the same relative scale (meaning they have similar min/max values).\n",
    "    - Each boxplot should:\n",
    "        - Only include variables of a similar scale\n",
    "        - Have clear labels for each variable\n",
    "        - Have appropriate titles and labels\n",
    "4. Plot and interpret scatter plots to view relationships between features. Feel free to write a custom function, and subplot if you'd like. Functions save both time and space.\n",
    "    - Your plots should have:\n",
    "        - Two clearly labeled axes\n",
    "        - A proper title\n",
    "        - Colors and symbols that are clear and unmistakable\n",
    "5. Additional plots of your choosing.\n",
    "    - Are there any additional trends or relationships you haven't explored? Was there something interesting you saw that you'd like to dive further into? It's likely that there are a few more plots you might want to generate to support your narrative and recommendations that you are building toward. **As always, make sure you're interpreting your plots as you go**."
   ]
  },
  {
   "cell_type": "markdown",
   "metadata": {},
   "source": [
    "Some ideas for plots that can be generated:\n",
    "\n",
    "- Plot the histogram of the rainfall data with various bins and comment on the distribution of the data - is it centered, skewed?\n",
    "- Plot the box-and-whiskers plot. Comment on the different quartiles and identify any outliers in the dataset. \n",
    "- Is there a correlation between the number of rainy days and total rainfall in the month? What kind of correlation do your suspect? Does the graph show the same?\n"
   ]
  },
  {
   "cell_type": "code",
   "execution_count": 50,
   "metadata": {},
   "outputs": [
    {
     "data": {
      "image/png": "[encoded data removed]",
      "text/plain": [
       "<Figure size 640x480 with 2 Axes>"
      ]
     },
     "metadata": {},
     "output_type": "display_data"
    }
   ],
   "source": [
    "# Use Seaborn's heatmap .corr() method to visualise correlations \n",
    "rainfall_footfall_correlations = df.corr()\n",
    "sns.heatmap(rainfall_footfall_correlations)\n",
    "\n",
    "# Add title\n",
    "plt.title('Correlation Heatmap: Total Rainfall vs. Footfall in Havaianas shop')\n",
    "\n",
    "# Display the plot\n",
    "plt.show()"
   ]
  },
  {
   "cell_type": "markdown",
   "metadata": {},
   "source": [
    "We observed a close to 0.6 correlation between the total rainfall and the number of visitors (traffic_in) in the shop, thus observing the weather changes across the year may help to predict the footfall traffic in the shop.  \n",
    "There is moderate correlation between the months and the number of visitors in the shop (traffic_in). We might be able to assess how the changes in months across a year affects the number of visitors in the shop. It may be the weather changes or some seasonal activities happening in some months that affects the number of visitors in the shop."
   ]
  },
  {
   "cell_type": "code",
   "execution_count": 190,
   "metadata": {},
   "outputs": [
    {
     "name": "stderr",
     "output_type": "stream",
     "text": [
      "/var/folders/dv/k6z5j3h56711pjxrnjxxlyk80000gn/T/ipykernel_25859/2365589319.py:2: FutureWarning: The default value of numeric_only in DataFrame.corr is deprecated. In a future version, it will default to False. Select only valid columns or specify the value of numeric_only to silence this warning.\n",
      "  retail_statistics_correlations = retail_sales.corr()\n"
     ]
    },
    {
     "data": {
      "image/png": "[encoded data removed]",
      "text/plain": [
       "<Figure size 640x480 with 2 Axes>"
      ]
     },
     "metadata": {},
     "output_type": "display_data"
    }
   ],
   "source": [
    "# Use Seaborn's heatmap .corr() method to visualise correlations in the Havaianas shop retail statisitics\n",
    "retail_statistics_correlations = retail_sales.corr()\n",
    "sns.heatmap(retail_statistics_correlations)\n",
    "\n",
    "# Add title\n",
    "plt.title('Correlation Heatmap: Revenue vs. Retail Statistics in Havaianas shop')\n",
    "\n",
    "# Display the plot\n",
    "plt.show()"
   ]
  },
  {
   "cell_type": "markdown",
   "metadata": {},
   "source": [
    "The above retail statistics was retreived from Havaianas sales dashboard in year 2018 (Jan to Jul). We are using this comprehensive dataset to understand the correlation between their sales revenue and other retail statistics for Havaianas. However, as this dataset is only for 7 months, thus we are unable to combine with the merged dataset to observe the retail statistics against the rainfall data.  \n",
    "There is a strong positive correlation between revenue and number of units sold, number of transactions and number of visitors. Havaianas can look into how to attract more visitors as it impacts the revenue of shop greatly.  \n",
    "Also, we observe a moderate negative correlation between revenue and average transaction value and average unit value. This might imply that increasing the sales per receipt and increasing the price of footwear may have a negative impact on revenue."
   ]
  },
  {
   "cell_type": "code",
   "execution_count": 89,
   "metadata": {},
   "outputs": [
    {
     "data": {
      "image/png": "[encoded data removed]",
      "text/plain": [
       "<Figure size 1600x400 with 1 Axes>"
      ]
     },
     "metadata": {},
     "output_type": "display_data"
    }
   ],
   "source": [
    "# Plot an histogram of the 'traffic_in' column in df with 30 bins\n",
    "df['traffic_in'].hist(figsize=(16,4), bins=30)\n",
    "\n",
    "# Add title\n",
    "plt.title('Histogram of Footfall in Retail Store')\n",
    "\n",
    "# Add labels\n",
    "plt.xlabel('Number of people')\n",
    "plt.ylabel('Frequency')\n",
    "\n",
    "# Display the plot\n",
    "plt.show()"
   ]
  },
  {
   "cell_type": "markdown",
   "metadata": {},
   "source": [
    "The histogram has a subtle bell-shaped curve. This curve is symmetrical, with the highest point at the mean (average) of the dataset. This could mean a normal distribution for this set of data. The mean and mode of the footfall in store is approximately 7,000 visitors. This means that there are relatively higher number of months where the footfall in the shop is about 7,000 pax.  \n",
    "  \n",
    "The width of the bell-shaped curve appears wide. This could mean that the footfall in the shop varies widely from month to month. The standard deviation of this graph is about 1546 number of visitors (as calculated above), which shows that the maximum and mininum data point is approximately 2 standard deviations away from the mean. This is considered good as outliers are normally defined as 3 standard deviations from the mean.  \n",
    "  \n",
    "However, as the total frequency is low, it is advised to collect more data points to see a clearer trend. The original data was recorded on a daily basis and aggregated to monthly data so that it is able to merge with the monthly rainfall data set. It is recommended that we can gather more datasets over the years. With a larger sample size, it can help confirm the normal distribution and improve the accuracy of statistical analysis."
   ]
  },
  {
   "cell_type": "code",
   "execution_count": 134,
   "metadata": {},
   "outputs": [
    {
     "data": {
      "image/png": "[encoded data removed]",
      "text/plain": [
       "<Figure size 1600x400 with 1 Axes>"
      ]
     },
     "metadata": {},
     "output_type": "display_data"
    }
   ],
   "source": [
    "# Plot an histogram of the 'total_rainfall' column in df with 50 bins\n",
    "df['total_rainfall'].hist(figsize=(16,4), bins=50)\n",
    "\n",
    "plt.title('Histogram of Total Rainfall')\n",
    "\n",
    "# Add labels\n",
    "plt.xlabel('Total Rainfall')\n",
    "plt.ylabel('Frequency')\n",
    "\n",
    "# Display the plot\n",
    "plt.show()"
   ]
  },
  {
   "cell_type": "markdown",
   "metadata": {},
   "source": [
    "We observe that out of the total 12 months, 8 months fall within a rainfall range of 50 to 100mm. Specifically, all months except for February, July, August, and December exhibit rainfall within this range. Additionally, we find that the mode of the rainfall distribution occurs at approximately 70mm and 90mm. This observation aligns with the calculated mean of 105mm.  \n",
    "  \n",
    "The histogram exhibits a subtle bell-shaped curve. However, it is worth noting that it is skewed towards the right. This skewness suggests that the data may not follow a perfect normal distribution. The calculated standard deviation of 73mm further indicates the presence of an outlier at the 300mm rainfall mark. It might be good to consider removing this outlier to assess whether this action could help achieve a closer approximation to a normal distribution.\n",
    "\n",
    "The width of the bell-shaped curve appears wide too. This could mean that the rainfall across the year varies widely from month to month. However, the total frequency of the data set is low. With a larger sample size, it can help to achieve normal distribution and improve the accuracy of statistical analysis."
   ]
  },
  {
   "cell_type": "code",
   "execution_count": 135,
   "metadata": {},
   "outputs": [
    {
     "data": {
      "image/png": "[encoded data removed]",
      "text/plain": [
       "<Figure size 1200x600 with 2 Axes>"
      ]
     },
     "metadata": {},
     "output_type": "display_data"
    }
   ],
   "source": [
    "# Create a boxplot for 2 variables\n",
    "fig, axes = plt.subplots(nrows=1, ncols=2, figsize=(12, 6))\n",
    "\n",
    "# Create boxplots for each variable with separate titles and labels\n",
    "df['total_rainfall'].plot(kind='box', ax=axes[0])\n",
    "axes[0].set_title('Boxplot of Total Rainfall')\n",
    "axes[0].set_xlabel('Total Rainfall')\n",
    "axes[0].set_ylabel('mm')\n",
    "\n",
    "df['traffic_in'].plot(kind='box', ax=axes[1])\n",
    "axes[1].set_title('Boxplot of Store Footfall')\n",
    "axes[1].set_xlabel('No.of visitors')\n",
    "axes[1].set_ylabel('pax')\n",
    "\n",
    "# Adjust layout\n",
    "plt.tight_layout()\n",
    "\n",
    "# Display the plot\n",
    "plt.show()"
   ]
  },
  {
   "cell_type": "markdown",
   "metadata": {},
   "source": [
    "Total rainfall boxplot:  \n",
    "-The median, which is centrally located within the box, which may indicate a symmetric distribution of data around this point. This positioning also means that the median (Q2) aligns with the center of the interquartile range (IQR). The near equal length of the whiskers further supports this symmetry. This suggests that by removing the outliers, we may observe a more normal distribution of total rainfall across the year.  \n",
    "-The whiskers are not widely separated suggests that the spread of the data is relatively consistent after removing the outliers as part of the analysis.\n",
    "\n",
    "No.of visitors boxplot:  \n",
    "-The longer box indicates a larger interquartile range, suggesting more variability in the middle 50% of the dataset. This finding is consistent with our earlier analysis of the histogram.  \n",
    "-In this boxplot, two data points are identified as outliers. As the median is situated closer to the upper edge of the box, while the whisker at the bottom of the boxplot is notably longer, it may indicate a potential left-skewed data distribution, characterised by a longer tail on the left side. This finding contrasts with our previous analysis of the histogram."
   ]
  },
  {
   "cell_type": "code",
   "execution_count": 136,
   "metadata": {},
   "outputs": [
    {
     "data": {
      "text/plain": [
       "Text(0.5, 1.0, 'Scatterplot of Total Rainfall against the visitors in store')"
      ]
     },
     "execution_count": 136,
     "metadata": {},
     "output_type": "execute_result"
    },
    {
     "data": {
      "image/png": "[encoded data removed]",
      "text/plain": [
       "<Figure size 640x480 with 1 Axes>"
      ]
     },
     "metadata": {},
     "output_type": "display_data"
    }
   ],
   "source": [
    "# Compare with scatter plot\n",
    "df.plot(kind='scatter', x='total_rainfall', y='traffic_in')\n",
    "\n",
    "plt.title('Scatterplot of Total Rainfall against the visitors in store')"
   ]
  },
  {
   "cell_type": "markdown",
   "metadata": {},
   "source": [
    "It may look like there is little correlation between the total rainfall and the number of visitors in shop. More data points is recommended to find a clearer trend in the scatterplot."
   ]
  },
  {
   "cell_type": "code",
   "execution_count": 148,
   "metadata": {},
   "outputs": [
    {
     "data": {
      "image/png": "[encoded data removed]",
      "text/plain": [
       "<Figure size 640x480 with 1 Axes>"
      ]
     },
     "metadata": {},
     "output_type": "display_data"
    },
    {
     "data": {
      "text/plain": [
       "<Figure size 800x400 with 0 Axes>"
      ]
     },
     "metadata": {},
     "output_type": "display_data"
    }
   ],
   "source": [
    "# Use the .plot() method to see rainfall trend\n",
    "df.plot(x='month', y=['total_rainfall'], marker='4')\n",
    "\n",
    "# Add labels and title\n",
    "plt.xlabel('Month')\n",
    "plt.ylabel('mm')\n",
    "plt.title('Total Rainfall across a year')\n",
    "\n",
    "# Set the figure size with increased height\n",
    "plt.figure(figsize=(8, 4))\n",
    "\n",
    "# Display the plot\n",
    "plt.show()"
   ]
  },
  {
   "cell_type": "code",
   "execution_count": 43,
   "metadata": {},
   "outputs": [
    {
     "data": {
      "image/png": "[encoded data removed]",
      "text/plain": [
       "<Figure size 640x480 with 1 Axes>"
      ]
     },
     "metadata": {},
     "output_type": "display_data"
    },
    {
     "data": {
      "text/plain": [
       "<Figure size 800x200 with 0 Axes>"
      ]
     },
     "metadata": {},
     "output_type": "display_data"
    }
   ],
   "source": [
    "# Use the .plot() method to analyse retail store footfall\n",
    "df.plot(x='month', y=['traffic_in'], marker='4',color='green')\n",
    "\n",
    "# Add labels and title\n",
    "plt.xlabel('Month')\n",
    "plt.ylabel('No. of Visitors')\n",
    "plt.title('Footfall at Havaianas across a year')\n",
    "\n",
    "# Set the figure size with increased height\n",
    "plt.figure(figsize=(8, 2))\n",
    "\n",
    "# Display the plot\n",
    "plt.show()"
   ]
  },
  {
   "cell_type": "markdown",
   "metadata": {},
   "source": [
    "By comparing the above two line graphs, we observed that in months February, March, June and July, when there is an increase in the amount of total rainfall, it leads to a decrease in the footfall at Havaianas store. This inverse correlation suggests that an increase in the amount of total rainfall during these months tends to deter visitors from frequenting the store. Possible explanations could include unfavorable weather conditions, such as rain or storms, which may dissuade potential customers from venturing outdoors.  \n",
    "In months January and October, when there is decrease in the total rainfall, it leads to an increase in the footfall at the store. This inverse correlation implies that a decrease in rainfall during these months has a positive impact on foot traffic, possibly indicating that people are more inclined to visit the store when weather conditions are favorable and rain is less likely to impede their plans.  \n",
    "These observations collectively suggest a potential cause-and-effect relationship between rainfall and store footfall. While correlation does not necessarily imply causation, the data hint at the possibility that the amount of rainfall plays a role in influencing the number of visitors to the Havaianas store."
   ]
  },
  {
   "cell_type": "code",
   "execution_count": 191,
   "metadata": {},
   "outputs": [
    {
     "name": "stdout",
     "output_type": "stream",
     "text": [
      "Correlation Matrix:\n"
     ]
    },
    {
     "data": {
      "text/html": [
       "<div>\n",
       "<style scoped>\n",
       "    .dataframe tbody tr th:only-of-type {\n",
       "        vertical-align: middle;\n",
       "    }\n",
       "\n",
       "    .dataframe tbody tr th {\n",
       "        vertical-align: top;\n",
       "    }\n",
       "\n",
       "    .dataframe thead th {\n",
       "        text-align: right;\n",
       "    }\n",
       "</style>\n",
       "<table border=\"1\" class=\"dataframe\">\n",
       "  <thead>\n",
       "    <tr style=\"text-align: right;\">\n",
       "      <th></th>\n",
       "      <th>year</th>\n",
       "      <th>month</th>\n",
       "      <th>total_rainfall</th>\n",
       "      <th>traffic_in</th>\n",
       "    </tr>\n",
       "  </thead>\n",
       "  <tbody>\n",
       "    <tr>\n",
       "      <th>year</th>\n",
       "      <td>NaN</td>\n",
       "      <td>NaN</td>\n",
       "      <td>NaN</td>\n",
       "      <td>NaN</td>\n",
       "    </tr>\n",
       "    <tr>\n",
       "      <th>month</th>\n",
       "      <td>NaN</td>\n",
       "      <td>1.000000</td>\n",
       "      <td>0.553470</td>\n",
       "      <td>0.335141</td>\n",
       "    </tr>\n",
       "    <tr>\n",
       "      <th>total_rainfall</th>\n",
       "      <td>NaN</td>\n",
       "      <td>0.553470</td>\n",
       "      <td>1.000000</td>\n",
       "      <td>0.537342</td>\n",
       "    </tr>\n",
       "    <tr>\n",
       "      <th>traffic_in</th>\n",
       "      <td>NaN</td>\n",
       "      <td>0.335141</td>\n",
       "      <td>0.537342</td>\n",
       "      <td>1.000000</td>\n",
       "    </tr>\n",
       "  </tbody>\n",
       "</table>\n",
       "</div>"
      ],
      "text/plain": [
       "                year     month  total_rainfall  traffic_in\n",
       "year             NaN       NaN             NaN         NaN\n",
       "month            NaN  1.000000        0.553470    0.335141\n",
       "total_rainfall   NaN  0.553470        1.000000    0.537342\n",
       "traffic_in       NaN  0.335141        0.537342    1.000000"
      ]
     },
     "execution_count": 191,
     "metadata": {},
     "output_type": "execute_result"
    }
   ],
   "source": [
    "# Calculate the correlation coefficients between weather and footfall\n",
    "correlation_matrix = df.corr()\n",
    "\n",
    "print(\"Correlation Matrix:\")\n",
    "correlation_matrix"
   ]
  },
  {
   "cell_type": "code",
   "execution_count": 192,
   "metadata": {
    "scrolled": true
   },
   "outputs": [
    {
     "name": "stdout",
     "output_type": "stream",
     "text": [
      "Correlation Matrix:\n"
     ]
    },
    {
     "name": "stderr",
     "output_type": "stream",
     "text": [
      "/var/folders/dv/k6z5j3h56711pjxrnjxxlyk80000gn/T/ipykernel_25859/985317666.py:2: FutureWarning: The default value of numeric_only in DataFrame.corr is deprecated. In a future version, it will default to False. Select only valid columns or specify the value of numeric_only to silence this warning.\n",
      "  correlation_matrix = retail_sales.corr()\n"
     ]
    },
    {
     "data": {
      "text/html": [
       "<div>\n",
       "<style scoped>\n",
       "    .dataframe tbody tr th:only-of-type {\n",
       "        vertical-align: middle;\n",
       "    }\n",
       "\n",
       "    .dataframe tbody tr th {\n",
       "        vertical-align: top;\n",
       "    }\n",
       "\n",
       "    .dataframe thead th {\n",
       "        text-align: right;\n",
       "    }\n",
       "</style>\n",
       "<table border=\"1\" class=\"dataframe\">\n",
       "  <thead>\n",
       "    <tr style=\"text-align: right;\">\n",
       "      <th></th>\n",
       "      <th>revenue</th>\n",
       "      <th>units_sold</th>\n",
       "      <th>num_transactions</th>\n",
       "      <th>basket_size</th>\n",
       "      <th>avg_transaction_value</th>\n",
       "      <th>avg_unit_value</th>\n",
       "      <th>total_discount</th>\n",
       "      <th>discount_pct</th>\n",
       "      <th>visitors</th>\n",
       "    </tr>\n",
       "  </thead>\n",
       "  <tbody>\n",
       "    <tr>\n",
       "      <th>revenue</th>\n",
       "      <td>1.000000</td>\n",
       "      <td>0.940109</td>\n",
       "      <td>0.965564</td>\n",
       "      <td>0.298170</td>\n",
       "      <td>-0.270199</td>\n",
       "      <td>-0.377982</td>\n",
       "      <td>0.236581</td>\n",
       "      <td>-0.063080</td>\n",
       "      <td>0.840309</td>\n",
       "    </tr>\n",
       "    <tr>\n",
       "      <th>units_sold</th>\n",
       "      <td>0.940109</td>\n",
       "      <td>1.000000</td>\n",
       "      <td>0.973226</td>\n",
       "      <td>0.484502</td>\n",
       "      <td>-0.456430</td>\n",
       "      <td>-0.615014</td>\n",
       "      <td>0.365003</td>\n",
       "      <td>0.157623</td>\n",
       "      <td>0.791325</td>\n",
       "    </tr>\n",
       "    <tr>\n",
       "      <th>num_transactions</th>\n",
       "      <td>0.965564</td>\n",
       "      <td>0.973226</td>\n",
       "      <td>1.000000</td>\n",
       "      <td>0.302018</td>\n",
       "      <td>-0.483731</td>\n",
       "      <td>-0.507172</td>\n",
       "      <td>0.351755</td>\n",
       "      <td>0.129171</td>\n",
       "      <td>0.842007</td>\n",
       "    </tr>\n",
       "    <tr>\n",
       "      <th>basket_size</th>\n",
       "      <td>0.298170</td>\n",
       "      <td>0.484502</td>\n",
       "      <td>0.302018</td>\n",
       "      <td>1.000000</td>\n",
       "      <td>-0.097207</td>\n",
       "      <td>-0.771343</td>\n",
       "      <td>0.235459</td>\n",
       "      <td>0.230524</td>\n",
       "      <td>0.154128</td>\n",
       "    </tr>\n",
       "    <tr>\n",
       "      <th>avg_transaction_value</th>\n",
       "      <td>-0.270199</td>\n",
       "      <td>-0.456430</td>\n",
       "      <td>-0.483731</td>\n",
       "      <td>-0.097207</td>\n",
       "      <td>1.000000</td>\n",
       "      <td>0.664205</td>\n",
       "      <td>-0.488213</td>\n",
       "      <td>-0.593212</td>\n",
       "      <td>-0.354352</td>\n",
       "    </tr>\n",
       "    <tr>\n",
       "      <th>avg_unit_value</th>\n",
       "      <td>-0.377982</td>\n",
       "      <td>-0.615014</td>\n",
       "      <td>-0.507172</td>\n",
       "      <td>-0.771343</td>\n",
       "      <td>0.664205</td>\n",
       "      <td>1.000000</td>\n",
       "      <td>-0.462625</td>\n",
       "      <td>-0.527359</td>\n",
       "      <td>-0.318096</td>\n",
       "    </tr>\n",
       "    <tr>\n",
       "      <th>total_discount</th>\n",
       "      <td>0.236581</td>\n",
       "      <td>0.365003</td>\n",
       "      <td>0.351755</td>\n",
       "      <td>0.235459</td>\n",
       "      <td>-0.488213</td>\n",
       "      <td>-0.462625</td>\n",
       "      <td>1.000000</td>\n",
       "      <td>0.793220</td>\n",
       "      <td>0.348379</td>\n",
       "    </tr>\n",
       "    <tr>\n",
       "      <th>discount_pct</th>\n",
       "      <td>-0.063080</td>\n",
       "      <td>0.157623</td>\n",
       "      <td>0.129171</td>\n",
       "      <td>0.230524</td>\n",
       "      <td>-0.593212</td>\n",
       "      <td>-0.527359</td>\n",
       "      <td>0.793220</td>\n",
       "      <td>1.000000</td>\n",
       "      <td>0.145406</td>\n",
       "    </tr>\n",
       "    <tr>\n",
       "      <th>visitors</th>\n",
       "      <td>0.840309</td>\n",
       "      <td>0.791325</td>\n",
       "      <td>0.842007</td>\n",
       "      <td>0.154128</td>\n",
       "      <td>-0.354352</td>\n",
       "      <td>-0.318096</td>\n",
       "      <td>0.348379</td>\n",
       "      <td>0.145406</td>\n",
       "      <td>1.000000</td>\n",
       "    </tr>\n",
       "  </tbody>\n",
       "</table>\n",
       "</div>"
      ],
      "text/plain": [
       "                        revenue  units_sold  num_transactions  basket_size  \\\n",
       "revenue                1.000000    0.940109          0.965564     0.298170   \n",
       "units_sold             0.940109    1.000000          0.973226     0.484502   \n",
       "num_transactions       0.965564    0.973226          1.000000     0.302018   \n",
       "basket_size            0.298170    0.484502          0.302018     1.000000   \n",
       "avg_transaction_value -0.270199   -0.456430         -0.483731    -0.097207   \n",
       "avg_unit_value        -0.377982   -0.615014         -0.507172    -0.771343   \n",
       "total_discount         0.236581    0.365003          0.351755     0.235459   \n",
       "discount_pct          -0.063080    0.157623          0.129171     0.230524   \n",
       "visitors               0.840309    0.791325          0.842007     0.154128   \n",
       "\n",
       "                       avg_transaction_value  avg_unit_value  total_discount  \\\n",
       "revenue                            -0.270199       -0.377982        0.236581   \n",
       "units_sold                         -0.456430       -0.615014        0.365003   \n",
       "num_transactions                   -0.483731       -0.507172        0.351755   \n",
       "basket_size                        -0.097207       -0.771343        0.235459   \n",
       "avg_transaction_value               1.000000        0.664205       -0.488213   \n",
       "avg_unit_value                      0.664205        1.000000       -0.462625   \n",
       "total_discount                     -0.488213       -0.462625        1.000000   \n",
       "discount_pct                       -0.593212       -0.527359        0.793220   \n",
       "visitors                           -0.354352       -0.318096        0.348379   \n",
       "\n",
       "                       discount_pct  visitors  \n",
       "revenue                   -0.063080  0.840309  \n",
       "units_sold                 0.157623  0.791325  \n",
       "num_transactions           0.129171  0.842007  \n",
       "basket_size                0.230524  0.154128  \n",
       "avg_transaction_value     -0.593212 -0.354352  \n",
       "avg_unit_value            -0.527359 -0.318096  \n",
       "total_discount             0.793220  0.348379  \n",
       "discount_pct               1.000000  0.145406  \n",
       "visitors                   0.145406  1.000000  "
      ]
     },
     "execution_count": 192,
     "metadata": {},
     "output_type": "execute_result"
    }
   ],
   "source": [
    "# Calculate the correlation coefficients between the retail shop revenue and sales statistics\n",
    "correlation_matrix = retail_sales.corr()\n",
    "\n",
    "print(\"Correlation Matrix:\")\n",
    "correlation_matrix"
   ]
  },
  {
   "cell_type": "markdown",
   "metadata": {},
   "source": [
    "To further enrich the analysis of the footfall and weather data, we have included the 'retail_sales' dataset to explore the broader relationship between sales revenue and various retail metrics for the Havaianas shop. However, it's important to note that the retail statistics in retail_sales dataset are specific to the year 2018, covering the period from January to July. Due to this limited timeframe, we are unable to merge this dataset with the previously mentioned dataset encompassing rainfall data.\n",
    "\n",
    "Strong correlation between Revenue and Number of Visitors (Correlation Coefficient: 0.84):  \n",
    "A correlation coefficient of 0.84 indicates a strong positive linear relationship between revenue and the number of visitors. As the number of visitors to the shop increases, the revenue generated tends to increase proportionally.  \n",
    "This correlation suggests that visitors are more likely to convert into customers and make purchases when they visit the shop. Essentially, a higher footfall often translates into higher revenue, provided that the shop effectively converts visitors into paying customers.\n",
    "  \n",
    "Correlation Between Revenue and Units Sold (Correlation Coefficient: 0.94):  \n",
    "A strong positive correlation between revenue and units sold indicates that as the number of Havaianas units sold increases, the revenue also increases proportionally. It is also noted that there is low correlation of 0.29 between the average basket size and revenue. This suggests that the average basket size (the number of items purchased in a single transaction) has a weaker impact on revenue when compared to the influence of units sold. In essence, these findings collectively signify that an increase in the number of unique visitors to the shop tends to correspondingly boost revenue. However, the data indicates that visitors who purchase more pairs of footwear in a single transaction do not significantly impact the overall revenue. This underscores the importance of attracting a larger customer base to the shop as a primary driver of revenue growth.\n",
    "  \n",
    "Strong correlation Between Revenue and Number of Transactions (Correlation Coefficient: 0.97):  \n",
    "A strong positive correlation between revenue and the number of transactions suggests that as the number of transactions (no. of receipts) in the shop increases, the revenue generated also increases substantially.  \n",
    "This further supports that the shop is successful in closing deals with customers. It may imply that sales staff are effective in assisting customers, upselling, or cross-selling products."
   ]
  },
  {
   "cell_type": "markdown",
   "metadata": {},
   "source": [
    "## Conclusions and Recommendations"
   ]
  },
  {
   "cell_type": "markdown",
   "metadata": {},
   "source": [
    "Based on your exploration of the data, what are you key takeaways and recommendations? Make sure to answer your question of interest or address your problem statement here."
   ]
  },
  {
   "cell_type": "markdown",
   "metadata": {},
   "source": [
    "Conclusions:  \n",
    "1. Weather Impact on Footfall:  \n",
    "A noteworthy observation is the clear inverse relationship between monthly total rainfall and footfall in the retail shop. Specifically, when there is a high amount of total rainfall in a given month, footfall tends to decrease, and conversely, lower rainfall months see an increase in shop visitors.\n",
    "This weather-dependent trend underscores the importance of recognizing and adapting to seasonal variations, particularly during high rainfall months (February, March, June, July), where targeted marketing campaigns may serve to mitigate the anticipated dip in revenue.  \n",
    "  \n",
    "  \n",
    "2. Revenue Dynamics:  \n",
    "An analysis of revenue drivers revealed that shop revenue is positively linked to the number of visitors, while it shows a tendency to decline as the average sales per receipt and the price of footwear increase.\n",
    "Notably, attracting more visitors to the shop emerges as a critical factor in augmenting sales revenue. Therefore, strategic efforts should focus on expanding the customer base.\n",
    "Conversely, the data indicates that increasing prices or promoting higher sales per receipt may not yield the same positive impact on overall revenue and should be approached with caution. \n",
    "  \n",
    "Recommendations:  \n",
    "1. Seasonal Marketing Strategies:  \n",
    "Consider implementing targeted marketing campaigns during high rainfall months (February, March, June, July) to counteract the expected decrease in footfall. By engaging potential customers with compelling offers and incentives, the shop can strive to maintain revenue levels during inclement weather.  \n",
    "  \n",
    "2. Footfall Enhancement:  \n",
    "Emphasize efforts to increase the number of visitors to the shop. Strategies could include enhancing the shopping experience, expanding product offerings, or utilising effective marketing tactics to attract new customers. A growing customer base has shown a strong positive impact on revenue.  \n",
    "  \n",
    "3. Price and Sales Strategies:  \n",
    "Exercise caution when contemplating price increases or initiatives aimed at boosting sales per receipt. Given the observed data trends, the potential impact on overall revenue may not be as substantial as efforts to attract more visitors. Focus on providing value and meeting customer needs to encourage repeat visits and customer loyalty."
   ]
  },
  {
   "cell_type": "code",
   "execution_count": null,
   "metadata": {},
   "outputs": [],
   "source": []
  },
  {
   "cell_type": "markdown",
   "metadata": {},
   "source": [
    "Don't forget to create your README!\n",
    "\n",
    "**To-Do:** *If you combine your problem statement, data dictionary, brief summary of your analysis, and conclusions/recommendations, you have an amazing README.md file that quickly aligns your audience to the contents of your project.* Don't forget to cite your data sources!"
   ]
  },
  {
   "cell_type": "code",
   "execution_count": null,
   "metadata": {},
   "outputs": [],
   "source": []
  }
 ],
 "metadata": {
  "anaconda-cloud": {},
  "kernelspec": {
   "display_name": "Python 3 (ipykernel)",
   "language": "python",
   "name": "python3"
  },
  "language_info": {
   "codemirror_mode": {
    "name": "ipython",
    "version": 3
   },
   "file_extension": ".py",
   "mimetype": "text/x-python",
   "name": "python",
   "nbconvert_exporter": "python",
   "pygments_lexer": "ipython3",
   "version": "3.11.3"
  }
 },
 "nbformat": 4,
 "nbformat_minor": 4
}
